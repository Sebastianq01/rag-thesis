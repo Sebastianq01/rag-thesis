{
 "cells": [
  {
   "cell_type": "code",
   "execution_count": 1,
   "metadata": {},
   "outputs": [
    {
     "name": "stderr",
     "output_type": "stream",
     "text": [
      "\n",
      "A module that was compiled using NumPy 1.x cannot be run in\n",
      "NumPy 2.2.3 as it may crash. To support both 1.x and 2.x\n",
      "versions of NumPy, modules must be compiled with NumPy 2.0.\n",
      "Some module may need to rebuild instead e.g. with 'pybind11>=2.12'.\n",
      "\n",
      "If you are a user of the module, the easiest solution will be to\n",
      "downgrade to 'numpy<2' or try to upgrade the affected module.\n",
      "We expect that some modules will need time to support NumPy 2.\n",
      "\n",
      "Traceback (most recent call last):  File \"<frozen runpy>\", line 198, in _run_module_as_main\n",
      "  File \"<frozen runpy>\", line 88, in _run_code\n",
      "  File \"/Users/sebastianquintero/Library/CloudStorage/OneDrive-QuinteroOrthodontics/MIT/MEng/rag-thesis/.venv/lib/python3.11/site-packages/ipykernel_launcher.py\", line 18, in <module>\n",
      "    app.launch_new_instance()\n",
      "  File \"/Users/sebastianquintero/Library/CloudStorage/OneDrive-QuinteroOrthodontics/MIT/MEng/rag-thesis/.venv/lib/python3.11/site-packages/traitlets/config/application.py\", line 1075, in launch_instance\n",
      "    app.start()\n",
      "  File \"/Users/sebastianquintero/Library/CloudStorage/OneDrive-QuinteroOrthodontics/MIT/MEng/rag-thesis/.venv/lib/python3.11/site-packages/ipykernel/kernelapp.py\", line 739, in start\n",
      "    self.io_loop.start()\n",
      "  File \"/Users/sebastianquintero/Library/CloudStorage/OneDrive-QuinteroOrthodontics/MIT/MEng/rag-thesis/.venv/lib/python3.11/site-packages/tornado/platform/asyncio.py\", line 205, in start\n",
      "    self.asyncio_loop.run_forever()\n",
      "  File \"/usr/local/Cellar/python@3.11/3.11.11/Frameworks/Python.framework/Versions/3.11/lib/python3.11/asyncio/base_events.py\", line 608, in run_forever\n",
      "    self._run_once()\n",
      "  File \"/usr/local/Cellar/python@3.11/3.11.11/Frameworks/Python.framework/Versions/3.11/lib/python3.11/asyncio/base_events.py\", line 1936, in _run_once\n",
      "    handle._run()\n",
      "  File \"/usr/local/Cellar/python@3.11/3.11.11/Frameworks/Python.framework/Versions/3.11/lib/python3.11/asyncio/events.py\", line 84, in _run\n",
      "    self._context.run(self._callback, *self._args)\n",
      "  File \"/Users/sebastianquintero/Library/CloudStorage/OneDrive-QuinteroOrthodontics/MIT/MEng/rag-thesis/.venv/lib/python3.11/site-packages/ipykernel/kernelbase.py\", line 545, in dispatch_queue\n",
      "    await self.process_one()\n",
      "  File \"/Users/sebastianquintero/Library/CloudStorage/OneDrive-QuinteroOrthodontics/MIT/MEng/rag-thesis/.venv/lib/python3.11/site-packages/ipykernel/kernelbase.py\", line 534, in process_one\n",
      "    await dispatch(*args)\n",
      "  File \"/Users/sebastianquintero/Library/CloudStorage/OneDrive-QuinteroOrthodontics/MIT/MEng/rag-thesis/.venv/lib/python3.11/site-packages/ipykernel/kernelbase.py\", line 437, in dispatch_shell\n",
      "    await result\n",
      "  File \"/Users/sebastianquintero/Library/CloudStorage/OneDrive-QuinteroOrthodontics/MIT/MEng/rag-thesis/.venv/lib/python3.11/site-packages/ipykernel/ipkernel.py\", line 362, in execute_request\n",
      "    await super().execute_request(stream, ident, parent)\n",
      "  File \"/Users/sebastianquintero/Library/CloudStorage/OneDrive-QuinteroOrthodontics/MIT/MEng/rag-thesis/.venv/lib/python3.11/site-packages/ipykernel/kernelbase.py\", line 778, in execute_request\n",
      "    reply_content = await reply_content\n",
      "  File \"/Users/sebastianquintero/Library/CloudStorage/OneDrive-QuinteroOrthodontics/MIT/MEng/rag-thesis/.venv/lib/python3.11/site-packages/ipykernel/ipkernel.py\", line 449, in do_execute\n",
      "    res = shell.run_cell(\n",
      "  File \"/Users/sebastianquintero/Library/CloudStorage/OneDrive-QuinteroOrthodontics/MIT/MEng/rag-thesis/.venv/lib/python3.11/site-packages/ipykernel/zmqshell.py\", line 549, in run_cell\n",
      "    return super().run_cell(*args, **kwargs)\n",
      "  File \"/Users/sebastianquintero/Library/CloudStorage/OneDrive-QuinteroOrthodontics/MIT/MEng/rag-thesis/.venv/lib/python3.11/site-packages/IPython/core/interactiveshell.py\", line 3047, in run_cell\n",
      "    result = self._run_cell(\n",
      "  File \"/Users/sebastianquintero/Library/CloudStorage/OneDrive-QuinteroOrthodontics/MIT/MEng/rag-thesis/.venv/lib/python3.11/site-packages/IPython/core/interactiveshell.py\", line 3102, in _run_cell\n",
      "    result = runner(coro)\n",
      "  File \"/Users/sebastianquintero/Library/CloudStorage/OneDrive-QuinteroOrthodontics/MIT/MEng/rag-thesis/.venv/lib/python3.11/site-packages/IPython/core/async_helpers.py\", line 128, in _pseudo_sync_runner\n",
      "    coro.send(None)\n",
      "  File \"/Users/sebastianquintero/Library/CloudStorage/OneDrive-QuinteroOrthodontics/MIT/MEng/rag-thesis/.venv/lib/python3.11/site-packages/IPython/core/interactiveshell.py\", line 3306, in run_cell_async\n",
      "    has_raised = await self.run_ast_nodes(code_ast.body, cell_name,\n",
      "  File \"/Users/sebastianquintero/Library/CloudStorage/OneDrive-QuinteroOrthodontics/MIT/MEng/rag-thesis/.venv/lib/python3.11/site-packages/IPython/core/interactiveshell.py\", line 3489, in run_ast_nodes\n",
      "    if await self.run_code(code, result, async_=asy):\n",
      "  File \"/Users/sebastianquintero/Library/CloudStorage/OneDrive-QuinteroOrthodontics/MIT/MEng/rag-thesis/.venv/lib/python3.11/site-packages/IPython/core/interactiveshell.py\", line 3549, in run_code\n",
      "    exec(code_obj, self.user_global_ns, self.user_ns)\n",
      "  File \"/var/folders/3b/mhjd36px23sbt4q9lkdqwy_r0000gn/T/ipykernel_19712/3228684241.py\", line 5, in <module>\n",
      "    import torch\n",
      "  File \"/Users/sebastianquintero/Library/CloudStorage/OneDrive-QuinteroOrthodontics/MIT/MEng/rag-thesis/.venv/lib/python3.11/site-packages/torch/__init__.py\", line 1477, in <module>\n",
      "    from .functional import *  # noqa: F403\n",
      "  File \"/Users/sebastianquintero/Library/CloudStorage/OneDrive-QuinteroOrthodontics/MIT/MEng/rag-thesis/.venv/lib/python3.11/site-packages/torch/functional.py\", line 9, in <module>\n",
      "    import torch.nn.functional as F\n",
      "  File \"/Users/sebastianquintero/Library/CloudStorage/OneDrive-QuinteroOrthodontics/MIT/MEng/rag-thesis/.venv/lib/python3.11/site-packages/torch/nn/__init__.py\", line 1, in <module>\n",
      "    from .modules import *  # noqa: F403\n",
      "  File \"/Users/sebastianquintero/Library/CloudStorage/OneDrive-QuinteroOrthodontics/MIT/MEng/rag-thesis/.venv/lib/python3.11/site-packages/torch/nn/modules/__init__.py\", line 35, in <module>\n",
      "    from .transformer import TransformerEncoder, TransformerDecoder, \\\n",
      "  File \"/Users/sebastianquintero/Library/CloudStorage/OneDrive-QuinteroOrthodontics/MIT/MEng/rag-thesis/.venv/lib/python3.11/site-packages/torch/nn/modules/transformer.py\", line 20, in <module>\n",
      "    device: torch.device = torch.device(torch._C._get_default_device()),  # torch.device('cpu'),\n",
      "/Users/sebastianquintero/Library/CloudStorage/OneDrive-QuinteroOrthodontics/MIT/MEng/rag-thesis/.venv/lib/python3.11/site-packages/torch/nn/modules/transformer.py:20: UserWarning: Failed to initialize NumPy: _ARRAY_API not found (Triggered internally at /Users/runner/work/pytorch/pytorch/pytorch/torch/csrc/utils/tensor_numpy.cpp:84.)\n",
      "  device: torch.device = torch.device(torch._C._get_default_device()),  # torch.device('cpu'),\n",
      "/Users/sebastianquintero/Library/CloudStorage/OneDrive-QuinteroOrthodontics/MIT/MEng/rag-thesis/.venv/lib/python3.11/site-packages/tqdm/auto.py:21: TqdmWarning: IProgress not found. Please update jupyter and ipywidgets. See https://ipywidgets.readthedocs.io/en/stable/user_install.html\n",
      "  from .autonotebook import tqdm as notebook_tqdm\n"
     ]
    },
    {
     "data": {
      "text/html": [
       "<div>\n",
       "<style scoped>\n",
       "    .dataframe tbody tr th:only-of-type {\n",
       "        vertical-align: middle;\n",
       "    }\n",
       "\n",
       "    .dataframe tbody tr th {\n",
       "        vertical-align: top;\n",
       "    }\n",
       "\n",
       "    .dataframe thead th {\n",
       "        text-align: right;\n",
       "    }\n",
       "</style>\n",
       "<table border=\"1\" class=\"dataframe\">\n",
       "  <thead>\n",
       "    <tr style=\"text-align: right;\">\n",
       "      <th></th>\n",
       "      <th>Question</th>\n",
       "      <th>OptionA</th>\n",
       "      <th>OptionB</th>\n",
       "      <th>OptionC</th>\n",
       "      <th>OptionD</th>\n",
       "      <th>Answer</th>\n",
       "      <th>Feedback</th>\n",
       "      <th>theory</th>\n",
       "      <th>numerical</th>\n",
       "      <th>grouping</th>\n",
       "      <th>fill_in_blank</th>\n",
       "      <th>true_false</th>\n",
       "    </tr>\n",
       "  </thead>\n",
       "  <tbody>\n",
       "    <tr>\n",
       "      <th>0</th>\n",
       "      <td>One of the reasons protectionists and governme...</td>\n",
       "      <td>quotas generate more revenue for the governmen...</td>\n",
       "      <td>quotas ensure that the quantities of imports a...</td>\n",
       "      <td>quotas create less market distortions than tar...</td>\n",
       "      <td>quotas give less power to politicians than tar...</td>\n",
       "      <td>B</td>\n",
       "      <td>NaN</td>\n",
       "      <td>1</td>\n",
       "      <td>0</td>\n",
       "      <td>0</td>\n",
       "      <td>0</td>\n",
       "      <td>0</td>\n",
       "    </tr>\n",
       "    <tr>\n",
       "      <th>1</th>\n",
       "      <td>In the case of a small country, the effects of...</td>\n",
       "      <td>the government allocates licenses for free to ...</td>\n",
       "      <td>the government auctions off import licenses to...</td>\n",
       "      <td>the government allocates licenses to importers...</td>\n",
       "      <td>the government allocates import licenses direc...</td>\n",
       "      <td>B</td>\n",
       "      <td>NaN</td>\n",
       "      <td>0</td>\n",
       "      <td>1</td>\n",
       "      <td>0</td>\n",
       "      <td>0</td>\n",
       "      <td>0</td>\n",
       "    </tr>\n",
       "    <tr>\n",
       "      <th>2</th>\n",
       "      <td>A small country imports T-shirts. With free tr...</td>\n",
       "      <td>gain $5 million.</td>\n",
       "      <td>lose $5 million.</td>\n",
       "      <td>gain $25 million.</td>\n",
       "      <td>gain $30 million.</td>\n",
       "      <td>C</td>\n",
       "      <td>NaN</td>\n",
       "      <td>0</td>\n",
       "      <td>1</td>\n",
       "      <td>0</td>\n",
       "      <td>0</td>\n",
       "      <td>0</td>\n",
       "    </tr>\n",
       "    <tr>\n",
       "      <th>3</th>\n",
       "      <td>A small country imports T-shirts. With free tr...</td>\n",
       "      <td>gain $7 million.</td>\n",
       "      <td>lose $7 million.</td>\n",
       "      <td>lose $70 million.</td>\n",
       "      <td>lose $77 million.</td>\n",
       "      <td>D</td>\n",
       "      <td>NaN</td>\n",
       "      <td>0</td>\n",
       "      <td>1</td>\n",
       "      <td>0</td>\n",
       "      <td>0</td>\n",
       "      <td>0</td>\n",
       "    </tr>\n",
       "    <tr>\n",
       "      <th>4</th>\n",
       "      <td>A small country imports T-shirts. With free tr...</td>\n",
       "      <td>$30 million</td>\n",
       "      <td>$40 million</td>\n",
       "      <td>$70 million</td>\n",
       "      <td>$240 million</td>\n",
       "      <td>B</td>\n",
       "      <td>NaN</td>\n",
       "      <td>0</td>\n",
       "      <td>1</td>\n",
       "      <td>0</td>\n",
       "      <td>0</td>\n",
       "      <td>0</td>\n",
       "    </tr>\n",
       "    <tr>\n",
       "      <th>...</th>\n",
       "      <td>...</td>\n",
       "      <td>...</td>\n",
       "      <td>...</td>\n",
       "      <td>...</td>\n",
       "      <td>...</td>\n",
       "      <td>...</td>\n",
       "      <td>...</td>\n",
       "      <td>...</td>\n",
       "      <td>...</td>\n",
       "      <td>...</td>\n",
       "      <td>...</td>\n",
       "      <td>...</td>\n",
       "    </tr>\n",
       "    <tr>\n",
       "      <th>218</th>\n",
       "      <td>Specific factors are more likely to favor trad...</td>\n",
       "      <td>True</td>\n",
       "      <td>False</td>\n",
       "      <td>NaN</td>\n",
       "      <td>NaN</td>\n",
       "      <td>A</td>\n",
       "      <td>Workers can move away from the sector whose pr...</td>\n",
       "      <td>0</td>\n",
       "      <td>0</td>\n",
       "      <td>0</td>\n",
       "      <td>0</td>\n",
       "      <td>1</td>\n",
       "    </tr>\n",
       "    <tr>\n",
       "      <th>219</th>\n",
       "      <td>Factor prices are more likely to be equalized ...</td>\n",
       "      <td>True</td>\n",
       "      <td>False</td>\n",
       "      <td>NaN</td>\n",
       "      <td>NaN</td>\n",
       "      <td>B</td>\n",
       "      <td>When countries are not completely specialized,...</td>\n",
       "      <td>0</td>\n",
       "      <td>0</td>\n",
       "      <td>0</td>\n",
       "      <td>0</td>\n",
       "      <td>1</td>\n",
       "    </tr>\n",
       "    <tr>\n",
       "      <th>220</th>\n",
       "      <td>The European Common Agricultural Policy is a b...</td>\n",
       "      <td>True</td>\n",
       "      <td>False</td>\n",
       "      <td>NaN</td>\n",
       "      <td>NaN</td>\n",
       "      <td>B</td>\n",
       "      <td>The European Common Agricultural Policy entail...</td>\n",
       "      <td>0</td>\n",
       "      <td>0</td>\n",
       "      <td>0</td>\n",
       "      <td>0</td>\n",
       "      <td>1</td>\n",
       "    </tr>\n",
       "    <tr>\n",
       "      <th>221</th>\n",
       "      <td>Immigration necessarily lowers wages.</td>\n",
       "      <td>True</td>\n",
       "      <td>False</td>\n",
       "      <td>NaN</td>\n",
       "      <td>NaN</td>\n",
       "      <td>B</td>\n",
       "      <td>For example, when factor price equalization ho...</td>\n",
       "      <td>0</td>\n",
       "      <td>0</td>\n",
       "      <td>0</td>\n",
       "      <td>0</td>\n",
       "      <td>1</td>\n",
       "    </tr>\n",
       "    <tr>\n",
       "      <th>222</th>\n",
       "      <td>Offshoring cannot raise the real wage of the w...</td>\n",
       "      <td>True</td>\n",
       "      <td>False</td>\n",
       "      <td>NaN</td>\n",
       "      <td>NaN</td>\n",
       "      <td>B</td>\n",
       "      <td>Grossman and Rossi-Hansberg offer a scenario u...</td>\n",
       "      <td>0</td>\n",
       "      <td>0</td>\n",
       "      <td>0</td>\n",
       "      <td>0</td>\n",
       "      <td>1</td>\n",
       "    </tr>\n",
       "  </tbody>\n",
       "</table>\n",
       "<p>223 rows × 12 columns</p>\n",
       "</div>"
      ],
      "text/plain": [
       "                                              Question  \\\n",
       "0    One of the reasons protectionists and governme...   \n",
       "1    In the case of a small country, the effects of...   \n",
       "2    A small country imports T-shirts. With free tr...   \n",
       "3    A small country imports T-shirts. With free tr...   \n",
       "4    A small country imports T-shirts. With free tr...   \n",
       "..                                                 ...   \n",
       "218  Specific factors are more likely to favor trad...   \n",
       "219  Factor prices are more likely to be equalized ...   \n",
       "220  The European Common Agricultural Policy is a b...   \n",
       "221              Immigration necessarily lowers wages.   \n",
       "222  Offshoring cannot raise the real wage of the w...   \n",
       "\n",
       "                                               OptionA  \\\n",
       "0    quotas generate more revenue for the governmen...   \n",
       "1    the government allocates licenses for free to ...   \n",
       "2                                     gain $5 million.   \n",
       "3                                     gain $7 million.   \n",
       "4                                          $30 million   \n",
       "..                                                 ...   \n",
       "218                                               True   \n",
       "219                                               True   \n",
       "220                                               True   \n",
       "221                                               True   \n",
       "222                                               True   \n",
       "\n",
       "                                               OptionB  \\\n",
       "0    quotas ensure that the quantities of imports a...   \n",
       "1    the government auctions off import licenses to...   \n",
       "2                                     lose $5 million.   \n",
       "3                                     lose $7 million.   \n",
       "4                                          $40 million   \n",
       "..                                                 ...   \n",
       "218                                              False   \n",
       "219                                              False   \n",
       "220                                              False   \n",
       "221                                              False   \n",
       "222                                              False   \n",
       "\n",
       "                                               OptionC  \\\n",
       "0    quotas create less market distortions than tar...   \n",
       "1    the government allocates licenses to importers...   \n",
       "2                                    gain $25 million.   \n",
       "3                                    lose $70 million.   \n",
       "4                                          $70 million   \n",
       "..                                                 ...   \n",
       "218                                                NaN   \n",
       "219                                                NaN   \n",
       "220                                                NaN   \n",
       "221                                                NaN   \n",
       "222                                                NaN   \n",
       "\n",
       "                                               OptionD Answer  \\\n",
       "0    quotas give less power to politicians than tar...      B   \n",
       "1    the government allocates import licenses direc...      B   \n",
       "2                                    gain $30 million.      C   \n",
       "3                                    lose $77 million.      D   \n",
       "4                                         $240 million      B   \n",
       "..                                                 ...    ...   \n",
       "218                                                NaN      A   \n",
       "219                                                NaN      B   \n",
       "220                                                NaN      B   \n",
       "221                                                NaN      B   \n",
       "222                                                NaN      B   \n",
       "\n",
       "                                              Feedback  theory  numerical  \\\n",
       "0                                                  NaN       1          0   \n",
       "1                                                  NaN       0          1   \n",
       "2                                                  NaN       0          1   \n",
       "3                                                  NaN       0          1   \n",
       "4                                                  NaN       0          1   \n",
       "..                                                 ...     ...        ...   \n",
       "218  Workers can move away from the sector whose pr...       0          0   \n",
       "219  When countries are not completely specialized,...       0          0   \n",
       "220  The European Common Agricultural Policy entail...       0          0   \n",
       "221  For example, when factor price equalization ho...       0          0   \n",
       "222  Grossman and Rossi-Hansberg offer a scenario u...       0          0   \n",
       "\n",
       "     grouping  fill_in_blank  true_false  \n",
       "0           0              0           0  \n",
       "1           0              0           0  \n",
       "2           0              0           0  \n",
       "3           0              0           0  \n",
       "4           0              0           0  \n",
       "..        ...            ...         ...  \n",
       "218         0              0           1  \n",
       "219         0              0           1  \n",
       "220         0              0           1  \n",
       "221         0              0           1  \n",
       "222         0              0           1  \n",
       "\n",
       "[223 rows x 12 columns]"
      ]
     },
     "execution_count": 1,
     "metadata": {},
     "output_type": "execute_result"
    }
   ],
   "source": [
    "import os\n",
    "import pandas as pd\n",
    "import numpy as np\n",
    "from tqdm import tqdm\n",
    "import torch\n",
    "import datasets\n",
    "from transformers import AutoModelForCausalLM, AutoTokenizer, LlamaTokenizerFast, LlamaForCausalLM, LlamaTokenizer\n",
    "from sklearn.metrics import classification_report\n",
    "from peft import PeftModel\n",
    "\n",
    "from eval_utils import *\n",
    "\n",
    "df_test = pd.read_excel(\"data/multipleChoice.xlsx\" )\n",
    "# only keep first 50 rows\n",
    "df_test"
   ]
  },
  {
   "cell_type": "code",
   "execution_count": 2,
   "metadata": {},
   "outputs": [
    {
     "name": "stdout",
     "output_type": "stream",
     "text": [
      "Question Type Distribution:\n",
      "==========================\n",
      "               Count  Percentage (%)\n",
      "theory            36           16.14\n",
      "numerical         11            4.93\n",
      "grouping           5            2.24\n",
      "fill_in_blank     82           36.77\n",
      "true_false        89           39.91\n",
      "\n",
      "Total number of questions: 223\n"
     ]
    }
   ],
   "source": [
    "# Sum up the dummy variables to get counts for each category\n",
    "category_counts = df_test[['theory', 'numerical', 'grouping', 'fill_in_blank', 'true_false']].sum()\n",
    "\n",
    "# Calculate percentages\n",
    "total_questions = len(df_test)\n",
    "category_percentages = (category_counts / total_questions * 100).round(2)\n",
    "\n",
    "# Create a summary DataFrame\n",
    "summary_df = pd.DataFrame({\n",
    "    'Count': category_counts,\n",
    "    'Percentage (%)': category_percentages\n",
    "})\n",
    "\n",
    "print(\"Question Type Distribution:\")\n",
    "print(\"==========================\")\n",
    "print(summary_df)\n",
    "print(f\"\\nTotal number of questions: {total_questions}\")"
   ]
  },
  {
   "cell_type": "code",
   "execution_count": 3,
   "metadata": {},
   "outputs": [],
   "source": [
    "cot_prompt = \"\"\"Lets think step by step in the folliwng multiple choice question:\n",
    "\n",
    "Question: The country Rich is relatively well endowed with skilled labor whereas its trade partner, Poor, is relatively well endowed with unskilled labor. The two countries produce and freely trade two goods using the same constant-returns-to-scale technologies. The countries have identical and homothetic preferences. In this setting, when trade opens, what happens?\n",
    "\n",
    "A) The real wage of skilled workers in Rich must rise, the real wage of unskilled\n",
    "workers in Rich must fall, and the income rise for skilled workers need not exceed\n",
    "the income fall for unskilled workers.\n",
    "\n",
    "B) The real wage of unskilled workers in Rich must rise, the real wage of skilled\n",
    "workers in Rich must fall, and the income rise for unskilled workers need not exceed the income fall for skilled workers\n",
    "\n",
    "C) The real wage of unskilled workers in Rich must rise, the real wage of skilled\n",
    "workers in Rich must fall, and the income rise for unskilled workers must exceed the income fall for skilled workers.\n",
    "\n",
    "D) The real wage of skilled workers in Rich must rise, the real wage of unskilled workers in Rich must fall, and the income rise for skilled workers must exceed the income fall for unskilled workers.\n",
    "\n",
    "Answer: \n",
    "1. By the Heckscher-Ohlin Theorem, the relative price of the skill-intensive good must increase in Rich. \n",
    "2. By the Stolper-Samuelson theorem, the real wage for skilled workers in Rich must rise and the real wage for unskilled workers in Rich must fall. \n",
    "3. Since there are aggregate gains from trade, the income rise for skilled workers as a whole must exceed the income fall for unskilled workers as a whole. \n",
    "4. Thus,the answer is option D: \"The real wage of skilled workers in Rich must rise, the real wage of unskilled workers in Rich must fall, and the income rise for skilled workers must exceed the income fall for unskilled workers.\"\n",
    "\n",
    "Now answer the following multiple choice question with ONLY a single letter (A, B, C, or D). Do not include any other text, punctuation, or explanation - just the letter.\n",
    "\n",
    "Question: {}\n",
    "\n",
    "A) {}\n",
    "B) {}\n",
    "C) {}\n",
    "D) {}\n",
    "Answer:\n",
    "\"\"\"\n",
    "\n",
    "cot_prompt_tf = \"\"\"Lets think step by step in the followng true or false question:\n",
    "\n",
    "Question: Trade between the US and China is more likely to benefit US high-tech workers and hurt US low-tech workers.\n",
    "\n",
    "A) True\n",
    "B) False\n",
    "\n",
    "Answer: \n",
    "1. The US is more abundant in high-tech workers than in low-tech workers relative to China. \n",
    "2. Trade will induce a decline in the wage of the US low-tech workers relative to the wage of the US high-tech workers, as low-tech labor becomes less scarse in the US afterstarting to trade with China. \n",
    "3. Said differently, trade essentially allows a country to convert a good x into another good y; so one can see it as new technology.\n",
    "4. Thus, the answer is A: True.\n",
    "\n",
    "Answer the following true/false question. Respond only with the letter A if the statement is true, or B if the statement is false. Do not include any other text, punctuation, or explanation - just the letter.\n",
    "\n",
    "Question: {}\n",
    "\n",
    "A) {}\n",
    "B) {}\n",
    "Answer:\"\"\"\n"
   ]
  },
  {
   "cell_type": "code",
   "execution_count": 6,
   "metadata": {},
   "outputs": [],
   "source": [
    "icl_prompt = \"\"\"Answer each multiple choice question with ONLY a single letter (A, B, C, or D).\n",
    "Here are some examples:\n",
    "\n",
    "Example 1: There are two large countries, the United States and China, and two goods, solar panels and soy bean. The United exports soy beans and imports solar panels. If the United States imposes a small import tariff on solar panels, whereas China imposes a small import tariff on soy beans, then:\n",
    "\n",
    "A) Both countries are better off than under free trade.\n",
    "B) Both countries are worse off than under free trade.\n",
    "C) The United States is better off than under free trade, but China is worse off.\n",
    "D) China is better off than under free trade, but the United States is worse off.\n",
    "\n",
    "Answer: B) Both countries are worse off than under free trade.\n",
    "\n",
    "Example 2: Consider a Ricardian trade model with two goods, Wine and Cheese, and many countries. Suppose France requires less labor to produce Cheese than Italy. Then:\n",
    "\n",
    "A) France might import Cheese from Italy.\n",
    "B) France might import Cheese from the rest of the world, but cannot import from Italy.\n",
    "C) France must export Cheese to country Italy.\n",
    "D) France must export Cheese to the rest of the world, but not necessarily to Italy.\n",
    "\n",
    "Answer: A) France might import Cheese from Italy.\n",
    "\n",
    "Example 3: If a tariff decreases domestic consumption of a good from 230 million units to 150 million units and raises the domestic price by $1.50, given a linear domestic demand curve and a perfectly elastic world supply curve, what is the value of the unexploited gains from trade caused by decreased domestic consumption?\n",
    "\n",
    "A) $45 million\n",
    "B) $60 million\n",
    "C) $80 million\n",
    "D) $120 million\n",
    "\n",
    "Answer: B) $60 million\n",
    "\n",
    "Now answer the following multiple choice question with ONLY a single letter (A, B, C, or D). Do not include any other text, punctuation, or explanation - just the letter.\n",
    "\n",
    "Question: {}\n",
    "\n",
    "A) {}\n",
    "B) {}\n",
    "C) {}\n",
    "D) {}\n",
    "Answer:\n",
    "\"\"\"\n",
    "\n",
    "icl_prompt_tf = \"\"\"Examine the answers to the following true or false question:\n",
    "\n",
    "Example 1: Offshoring cannot raise the real wage of the workers whose jobs are being offshored.\n",
    "A) True\n",
    "B) False\n",
    "\n",
    "Answer: B) False\n",
    "\n",
    "Example 2: Specific factors are more likely to favor trade protection than mobile factors.\n",
    "A) True\n",
    "B) False\n",
    "\n",
    "Answer: A) True\n",
    "\n",
    "\n",
    "Example 3: Factor prices are more likely to be equalized across countries if countries are completely specialized.\n",
    "A) True\n",
    "B) False\n",
    "\n",
    "Answer: B) False\n",
    "\n",
    "\n",
    "Answer the following true/false question. Respond only with the letter A if the statement is true, or B if the statement is false. Do not include any other text, punctuation, or explanation - just the letter.\n",
    "\n",
    "Question: {}\n",
    "\n",
    "A) {}\n",
    "B) {}\n",
    "Answer:\"\"\"\n"
   ]
  },
  {
   "cell_type": "markdown",
   "metadata": {},
   "source": [
    "### Chain of Thought Prompting"
   ]
  },
  {
   "cell_type": "code",
   "execution_count": 4,
   "metadata": {},
   "outputs": [
    {
     "name": "stderr",
     "output_type": "stream",
     "text": [
      " 83%|████████▎ | 184/223 [2:22:32<15:59, 24.60s/it]  "
     ]
    },
    {
     "name": "stdout",
     "output_type": "stream",
     "text": [
      "Error code: 429 - {'error': {'code': '429', 'message': 'Requests to the ChatCompletions_Create Operation under Azure OpenAI API version 2024-12-01-preview have exceeded call rate limit of your current AIServices S0 pricing tier. Please retry after 8 seconds. Please go here: https://aka.ms/oai/quotaincrease if you would like to further increase the default rate limit. For Free Account customers, upgrade to Pay as you Go here: https://aka.ms/429TrialUpgrade.'}}\n"
     ]
    },
    {
     "name": "stderr",
     "output_type": "stream",
     "text": [
      " 83%|████████▎ | 186/223 [2:23:17<13:48, 22.40s/it]"
     ]
    },
    {
     "name": "stdout",
     "output_type": "stream",
     "text": [
      "Error code: 429 - {'error': {'code': '429', 'message': 'Requests to the ChatCompletions_Create Operation under Azure OpenAI API version 2024-12-01-preview have exceeded call rate limit of your current AIServices S0 pricing tier. Please retry after 4 seconds. Please go here: https://aka.ms/oai/quotaincrease if you would like to further increase the default rate limit. For Free Account customers, upgrade to Pay as you Go here: https://aka.ms/429TrialUpgrade.'}}\n"
     ]
    },
    {
     "name": "stderr",
     "output_type": "stream",
     "text": [
      " 84%|████████▍ | 187/223 [2:23:54<16:01, 26.70s/it]"
     ]
    },
    {
     "name": "stdout",
     "output_type": "stream",
     "text": [
      "Error code: 429 - {'error': {'code': '429', 'message': 'Requests to the ChatCompletions_Create Operation under Azure OpenAI API version 2024-12-01-preview have exceeded call rate limit of your current AIServices S0 pricing tier. Please retry after 8 seconds. Please go here: https://aka.ms/oai/quotaincrease if you would like to further increase the default rate limit. For Free Account customers, upgrade to Pay as you Go here: https://aka.ms/429TrialUpgrade.'}}\n"
     ]
    },
    {
     "name": "stderr",
     "output_type": "stream",
     "text": [
      " 85%|████████▍ | 189/223 [2:24:37<13:06, 23.13s/it]"
     ]
    },
    {
     "name": "stdout",
     "output_type": "stream",
     "text": [
      "Error code: 429 - {'error': {'code': '429', 'message': 'Requests to the ChatCompletions_Create Operation under Azure OpenAI API version 2024-12-01-preview have exceeded call rate limit of your current AIServices S0 pricing tier. Please retry after 3 seconds. Please go here: https://aka.ms/oai/quotaincrease if you would like to further increase the default rate limit. For Free Account customers, upgrade to Pay as you Go here: https://aka.ms/429TrialUpgrade.'}}\n"
     ]
    },
    {
     "name": "stderr",
     "output_type": "stream",
     "text": [
      " 85%|████████▌ | 190/223 [2:25:15<15:14, 27.71s/it]"
     ]
    },
    {
     "name": "stdout",
     "output_type": "stream",
     "text": [
      "Error code: 429 - {'error': {'code': '429', 'message': 'Requests to the ChatCompletions_Create Operation under Azure OpenAI API version 2024-12-01-preview have exceeded call rate limit of your current AIServices S0 pricing tier. Please retry after 9 seconds. Please go here: https://aka.ms/oai/quotaincrease if you would like to further increase the default rate limit. For Free Account customers, upgrade to Pay as you Go here: https://aka.ms/429TrialUpgrade.'}}\n"
     ]
    },
    {
     "name": "stderr",
     "output_type": "stream",
     "text": [
      " 86%|████████▌ | 192/223 [2:25:58<12:08, 23.51s/it]"
     ]
    },
    {
     "name": "stdout",
     "output_type": "stream",
     "text": [
      "Error code: 429 - {'error': {'code': '429', 'message': 'Requests to the ChatCompletions_Create Operation under Azure OpenAI API version 2024-12-01-preview have exceeded call rate limit of your current AIServices S0 pricing tier. Please retry after 3 seconds. Please go here: https://aka.ms/oai/quotaincrease if you would like to further increase the default rate limit. For Free Account customers, upgrade to Pay as you Go here: https://aka.ms/429TrialUpgrade.'}}\n"
     ]
    },
    {
     "name": "stderr",
     "output_type": "stream",
     "text": [
      " 87%|████████▋ | 193/223 [2:26:36<13:53, 27.79s/it]"
     ]
    },
    {
     "name": "stdout",
     "output_type": "stream",
     "text": [
      "Error code: 429 - {'error': {'code': '429', 'message': 'Requests to the ChatCompletions_Create Operation under Azure OpenAI API version 2024-12-01-preview have exceeded call rate limit of your current AIServices S0 pricing tier. Please retry after 8 seconds. Please go here: https://aka.ms/oai/quotaincrease if you would like to further increase the default rate limit. For Free Account customers, upgrade to Pay as you Go here: https://aka.ms/429TrialUpgrade.'}}\n"
     ]
    },
    {
     "name": "stderr",
     "output_type": "stream",
     "text": [
      " 87%|████████▋ | 195/223 [2:27:19<11:00, 23.58s/it]"
     ]
    },
    {
     "name": "stdout",
     "output_type": "stream",
     "text": [
      "Error code: 429 - {'error': {'code': '429', 'message': 'Requests to the ChatCompletions_Create Operation under Azure OpenAI API version 2024-12-01-preview have exceeded call rate limit of your current AIServices S0 pricing tier. Please retry after 3 seconds. Please go here: https://aka.ms/oai/quotaincrease if you would like to further increase the default rate limit. For Free Account customers, upgrade to Pay as you Go here: https://aka.ms/429TrialUpgrade.'}}\n"
     ]
    },
    {
     "name": "stderr",
     "output_type": "stream",
     "text": [
      " 88%|████████▊ | 196/223 [2:27:57<12:32, 27.85s/it]"
     ]
    },
    {
     "name": "stdout",
     "output_type": "stream",
     "text": [
      "Error code: 429 - {'error': {'code': '429', 'message': 'Requests to the ChatCompletions_Create Operation under Azure OpenAI API version 2024-12-01-preview have exceeded call rate limit of your current AIServices S0 pricing tier. Please retry after 8 seconds. Please go here: https://aka.ms/oai/quotaincrease if you would like to further increase the default rate limit. For Free Account customers, upgrade to Pay as you Go here: https://aka.ms/429TrialUpgrade.'}}\n"
     ]
    },
    {
     "name": "stderr",
     "output_type": "stream",
     "text": [
      " 89%|████████▉ | 198/223 [2:28:40<09:50, 23.63s/it]"
     ]
    },
    {
     "name": "stdout",
     "output_type": "stream",
     "text": [
      "Error code: 429 - {'error': {'code': '429', 'message': 'Requests to the ChatCompletions_Create Operation under Azure OpenAI API version 2024-12-01-preview have exceeded call rate limit of your current AIServices S0 pricing tier. Please retry after 3 seconds. Please go here: https://aka.ms/oai/quotaincrease if you would like to further increase the default rate limit. For Free Account customers, upgrade to Pay as you Go here: https://aka.ms/429TrialUpgrade.'}}\n"
     ]
    },
    {
     "name": "stderr",
     "output_type": "stream",
     "text": [
      " 89%|████████▉ | 199/223 [2:29:18<11:09, 27.89s/it]"
     ]
    },
    {
     "name": "stdout",
     "output_type": "stream",
     "text": [
      "Error code: 429 - {'error': {'code': '429', 'message': 'Requests to the ChatCompletions_Create Operation under Azure OpenAI API version 2024-12-01-preview have exceeded call rate limit of your current AIServices S0 pricing tier. Please retry after 8 seconds. Please go here: https://aka.ms/oai/quotaincrease if you would like to further increase the default rate limit. For Free Account customers, upgrade to Pay as you Go here: https://aka.ms/429TrialUpgrade.'}}\n"
     ]
    },
    {
     "name": "stderr",
     "output_type": "stream",
     "text": [
      " 90%|█████████ | 201/223 [2:30:01<08:40, 23.65s/it]"
     ]
    },
    {
     "name": "stdout",
     "output_type": "stream",
     "text": [
      "Error code: 429 - {'error': {'code': '429', 'message': 'Requests to the ChatCompletions_Create Operation under Azure OpenAI API version 2024-12-01-preview have exceeded call rate limit of your current AIServices S0 pricing tier. Please retry after 3 seconds. Please go here: https://aka.ms/oai/quotaincrease if you would like to further increase the default rate limit. For Free Account customers, upgrade to Pay as you Go here: https://aka.ms/429TrialUpgrade.'}}\n"
     ]
    },
    {
     "name": "stderr",
     "output_type": "stream",
     "text": [
      " 91%|█████████ | 202/223 [2:30:38<09:45, 27.88s/it]"
     ]
    },
    {
     "name": "stdout",
     "output_type": "stream",
     "text": [
      "Error code: 429 - {'error': {'code': '429', 'message': 'Requests to the ChatCompletions_Create Operation under Azure OpenAI API version 2024-12-01-preview have exceeded call rate limit of your current AIServices S0 pricing tier. Please retry after 8 seconds. Please go here: https://aka.ms/oai/quotaincrease if you would like to further increase the default rate limit. For Free Account customers, upgrade to Pay as you Go here: https://aka.ms/429TrialUpgrade.'}}\n"
     ]
    },
    {
     "name": "stderr",
     "output_type": "stream",
     "text": [
      "100%|█████████▉| 222/223 [2:46:22<00:31, 31.42s/it]"
     ]
    },
    {
     "name": "stdout",
     "output_type": "stream",
     "text": [
      "Error code: 429 - {'error': {'code': '429', 'message': 'Requests to the ChatCompletions_Create Operation under Azure OpenAI API version 2024-12-01-preview have exceeded call rate limit of your current AIServices S0 pricing tier. Please retry after 8 seconds. Please go here: https://aka.ms/oai/quotaincrease if you would like to further increase the default rate limit. For Free Account customers, upgrade to Pay as you Go here: https://aka.ms/429TrialUpgrade.'}}\n"
     ]
    },
    {
     "name": "stderr",
     "output_type": "stream",
     "text": [
      "100%|██████████| 223/223 [2:46:55<00:00, 44.91s/it]"
     ]
    },
    {
     "name": "stdout",
     "output_type": "stream",
     "text": [
      "\n",
      "Detailed Answer Matching:\n",
      "------------------------\n",
      "Found 75 mismatches out of 223 questions\n",
      "\n",
      "Results for gpt-35-turbo: CoT Prompting\n",
      "==================================================\n",
      "Overall Accuracy: 0.6637 (148/223 correct)\n",
      "\n",
      "Per-Category Performance:\n",
      "------------------------------\n",
      "Theory:\n",
      "  Accuracy: 0.7222\n",
      "  Correct: 26/36\n",
      "\n",
      "Numerical:\n",
      "  Accuracy: 0.2727\n",
      "  Correct: 3/11\n",
      "\n",
      "Grouping:\n",
      "  Accuracy: 0.6000\n",
      "  Correct: 3/5\n",
      "\n",
      "Fill In Blank:\n",
      "  Accuracy: 0.6707\n",
      "  Correct: 55/82\n",
      "\n",
      "True False:\n",
      "  Accuracy: 0.6854\n",
      "  Correct: 61/89\n",
      "\n"
     ]
    },
    {
     "name": "stderr",
     "output_type": "stream",
     "text": [
      "\n"
     ]
    }
   ],
   "source": [
    "for MODEL_NAME in [\"gpt-35-turbo\"]:\n",
    "    y_pred = []\n",
    "    y_true = []\n",
    "    \n",
    "    for row in tqdm(df_test.iterrows(), total=len(df_test)):\n",
    "        time.sleep(1)\n",
    "        question = row[1][\"Question\"]\n",
    "        choice_a = row[1][\"OptionA\"]\n",
    "        choice_b = row[1][\"OptionB\"]\n",
    "        choice_c = row[1][\"OptionC\"]\n",
    "        choice_d = row[1][\"OptionD\"]\n",
    "        label = row[1][\"Answer\"].strip().upper()  # Clean the true label\n",
    "        \n",
    "        if MODEL_NAME == \"gpt-35-turbo\":\n",
    "            if row[1][\"true_false\"]:\n",
    "                prediction = prompt_chatgpt_with_backoff(cot_prompt_tf.format(\n",
    "                    question, choice_a, choice_b))\n",
    "            else:\n",
    "                prediction = prompt_chatgpt_with_backoff(cot_prompt.format(\n",
    "                    question, choice_a, choice_b, choice_c, choice_d))\n",
    "        \n",
    "        # Clean and extract the predicted answer letter more carefully\n",
    "        pred_letter = prediction.strip().upper()\n",
    "        # If the prediction contains more than just the letter, take first word\n",
    "        if len(pred_letter) > 1:\n",
    "            pred_letter = pred_letter.split()[0]\n",
    "        \n",
    "        # Validate prediction format\n",
    "        if pred_letter not in ['A', 'B', 'C', 'D']:\n",
    "            print(f\"Warning: Invalid prediction format: '{prediction}' for question: {question}\")\n",
    "            pred_letter = 'INVALID'\n",
    "        \n",
    "        y_pred.append(pred_letter)\n",
    "        y_true.append(label)\n",
    "\n",
    "        \"\"\"\n",
    "        # Print debugging info for all predictions\n",
    "        if pred_letter != label:\n",
    "            print(\"\\nIncorrect Prediction:\")\n",
    "            print(f\"Question: {question}\")\n",
    "            print(f\"Choices:\")\n",
    "            print(f\"A) {choice_a}\")\n",
    "            print(f\"B) {choice_b}\")\n",
    "            if not row[1][\"true_false\"]:\n",
    "                print(f\"C) {choice_c}\")\n",
    "                print(f\"D) {choice_d}\")\n",
    "            print(f\"Raw model response: '{prediction}'\")\n",
    "            print(f\"Processed prediction: '{pred_letter}'\")\n",
    "            print(f\"Correct answer: '{label}'\")\n",
    "            print(\"=========================================================\")\n",
    "        \"\"\"\n",
    "\n",
    "    # Calculate overall accuracy\n",
    "    total_questions = len(y_true)\n",
    "    correct_answers = sum(1 for pred, true in zip(y_pred, y_true) if pred == true)\n",
    "    overall_accuracy = correct_answers / total_questions\n",
    "\n",
    "    # Print detailed matching information\n",
    "    print(\"\\nDetailed Answer Matching:\")\n",
    "    print(\"------------------------\")\n",
    "    mismatches = [(i, pred, true) for i, (pred, true) in enumerate(zip(y_pred, y_true)) if pred != true]\n",
    "    print(f\"Found {len(mismatches)} mismatches out of {total_questions} questions\")\n",
    "    \n",
    "    # Calculate per-category accuracies\n",
    "    categories = ['theory', 'numerical', 'grouping', 'fill_in_blank', 'true_false']\n",
    "    category_results = {}\n",
    "    \n",
    "    for category in categories:\n",
    "        # Get questions belonging to this category\n",
    "        category_indices = df_test[df_test[category] == 1].index\n",
    "        \n",
    "        if len(category_indices) > 0:\n",
    "            category_correct = sum(1 for i in category_indices if y_pred[i] == y_true[i])\n",
    "            category_accuracy = category_correct / len(category_indices)\n",
    "            category_results[category] = {\n",
    "                'accuracy': category_accuracy,\n",
    "                'correct': category_correct,\n",
    "                'total': len(category_indices)\n",
    "            }\n",
    "\n",
    "    # Print results\n",
    "    print(f\"\\nResults for {MODEL_NAME}: CoT Prompting\")\n",
    "    print(\"=\" * 50)\n",
    "    print(f\"Overall Accuracy: {overall_accuracy:.4f} ({correct_answers}/{total_questions} correct)\")\n",
    "    print(\"\\nPer-Category Performance:\")\n",
    "    print(\"-\" * 30)\n",
    "    \n",
    "    for category, results in category_results.items():\n",
    "        print(f\"{category.replace('_', ' ').title()}:\")\n",
    "        print(f\"  Accuracy: {results['accuracy']:.4f}\")\n",
    "        print(f\"  Correct: {results['correct']}/{results['total']}\")\n",
    "        print()\n",
    "\n",
    "    # Save results to file\n",
    "    with open(\"results/LLM_results.txt\", \"a\") as f:\n",
    "        f.write(f\"\\nResults for {MODEL_NAME}\\n\")\n",
    "        f.write(\"=\" * 50 + \"\\n\")\n",
    "        f.write(f\"Overall Accuracy: {overall_accuracy:.4f} ({correct_answers}/{total_questions} correct)\\n\")\n",
    "        f.write(\"\\nPer-Category Performance:\\n\")\n",
    "        f.write(\"-\" * 30 + \"\\n\")\n",
    "        \n",
    "        for category, results in category_results.items():\n",
    "            f.write(f\"{category.replace('_', ' ').title()}:\\n\")\n",
    "            f.write(f\"  Accuracy: {results['accuracy']:.4f}\\n\")\n",
    "            f.write(f\"  Correct: {results['correct']}/{results['total']}\\n\\n\")\n",
    "        f.write(\"\\n\")"
   ]
  },
  {
   "cell_type": "markdown",
   "metadata": {},
   "source": [
    "### In-Context Learning"
   ]
  },
  {
   "cell_type": "code",
   "execution_count": 8,
   "metadata": {},
   "outputs": [
    {
     "name": "stderr",
     "output_type": "stream",
     "text": [
      "  0%|          | 0/223 [00:00<?, ?it/s]"
     ]
    },
    {
     "name": "stderr",
     "output_type": "stream",
     "text": [
      "  2%|▏         | 4/223 [03:04<3:12:40, 52.79s/it]"
     ]
    },
    {
     "name": "stdout",
     "output_type": "stream",
     "text": [
      "Warning: Invalid prediction format: 'C) lose $70 million.' for question: A small country imports T-shirts. With free trade at a world price of $10, domestic production is 10 million T-shirts and domestic consumption is 42 million T-shirts. The country's government now decides to impose a quota to limit T-shirt imports to 20 million per year. With the import quota in place, the domestic price rises to $12 per T-shirt and domestic production rises to 15 million T-shirts per year. The quota on T-shirts causes domestic consumers to:\n"
     ]
    },
    {
     "name": "stderr",
     "output_type": "stream",
     "text": [
      "  2%|▏         | 5/223 [04:05<3:22:03, 55.61s/it]"
     ]
    },
    {
     "name": "stdout",
     "output_type": "stream",
     "text": [
      "Warning: Invalid prediction format: 'C) $70 million' for question: A small country imports T-shirts. With free trade at a world price of $10, domestic production is 10 million T-shirts and domestic consumption is 42 million T-shirts. The country's government now decides to impose a quota to limit T-shirt imports to 20 million per year. With the import quota in place, the domestic price rises to $12 per T-shirt and domestic production rises to 15 million T-shirts per year. If the government auctions the quota licenses, calculate the revenue collected by the government.\n"
     ]
    },
    {
     "name": "stderr",
     "output_type": "stream",
     "text": [
      "  3%|▎         | 7/223 [06:06<3:30:13, 58.39s/it]"
     ]
    },
    {
     "name": "stdout",
     "output_type": "stream",
     "text": [
      "Warning: Invalid prediction format: 'C) $52 million' for question: A small country imports T-shirts. With free trade at a world price of $10, domestic production is 10 million T-shirts and domestic consumption is 42 million T-shirts. The country's government then compels the exporting country to limit its T-shirt exports to 20 million per year. With the voluntary export restraint (VER) in place, the domestic price rises to $12 per T-shirt and domestic production rises to 15 million T-shirts per year. How much does the importing nation lose as a result of the VER?\n"
     ]
    },
    {
     "name": "stderr",
     "output_type": "stream",
     "text": [
      " 15%|█▍        | 33/223 [23:43<1:04:27, 20.35s/it]"
     ]
    },
    {
     "name": "stdout",
     "output_type": "stream",
     "text": [
      "Error code: 429 - {'error': {'code': '429', 'message': 'Requests to the ChatCompletions_Create Operation under Azure OpenAI API version 2024-12-01-preview have exceeded call rate limit of your current AIServices S0 pricing tier. Please retry after 9 seconds. Please go here: https://aka.ms/oai/quotaincrease if you would like to further increase the default rate limit. For Free Account customers, upgrade to Pay as you Go here: https://aka.ms/429TrialUpgrade.'}}\n"
     ]
    },
    {
     "name": "stderr",
     "output_type": "stream",
     "text": [
      " 20%|█▉        | 44/223 [33:56<2:57:03, 59.35s/it]"
     ]
    },
    {
     "name": "stdout",
     "output_type": "stream",
     "text": [
      "Warning: Invalid prediction format: 'B) increases; decreases' for question: A tariff ______ the amount of output produced by domestic firms and ______ the amount of goods bought by domestic consumers.\n"
     ]
    },
    {
     "name": "stderr",
     "output_type": "stream",
     "text": [
      " 20%|██        | 45/223 [34:57<2:57:19, 59.77s/it]"
     ]
    },
    {
     "name": "stdout",
     "output_type": "stream",
     "text": [
      "Warning: Invalid prediction format: 'B) I and III only' for question: If quotas on sugar were eliminated in the United States, domestic production of sugar\n",
      "would fall. Why is this a benefit in economic terms for the United States?\n",
      "I. Resources are freed up that could be used more efficiently elsewhere.\n",
      "II. It is beneficial because it allows foreign producers of sugar to earn income and thus\n",
      "those countries are better off.\n",
      "III. U.S. consumers are able to enjoy increased consumer surplus because of the lower\n",
      "prices of imported sugar.\n"
     ]
    },
    {
     "name": "stderr",
     "output_type": "stream",
     "text": [
      " 21%|██        | 46/223 [35:57<2:57:02, 60.02s/it]"
     ]
    },
    {
     "name": "stdout",
     "output_type": "stream",
     "text": [
      "Warning: Invalid prediction format: 'B) II and III only' for question: Which, if any, of the following conditions for efficient market functioning do tariffs and\n",
      "quotas violate?\n",
      "I. demanders with the highest willingness to pay purchase the supply of goods\n",
      "II. producers with the lowest costs produce and sell the supply of goods\n",
      "III. the sum of consumer and producer surplus is maximized\n"
     ]
    },
    {
     "name": "stderr",
     "output_type": "stream",
     "text": [
      " 22%|██▏       | 50/223 [40:00<2:53:33, 60.19s/it]"
     ]
    },
    {
     "name": "stdout",
     "output_type": "stream",
     "text": [
      "Warning: Invalid prediction format: 'B)' for question: As a result of tariffs:\n"
     ]
    },
    {
     "name": "stderr",
     "output_type": "stream",
     "text": [
      " 23%|██▎       | 51/223 [41:00<2:52:54, 60.31s/it]"
     ]
    },
    {
     "name": "stdout",
     "output_type": "stream",
     "text": [
      "Warning: Invalid prediction format: 'C) $75 million' for question: Suppose that a tariff increases domestic production of a good from 25 million units to 75 million units and raises the domestic price by $1.50. Assuming a linear domestic supply curve and a perfectly elastic world supply curve, what is the value of the resources wasted by increased domestic production?\n"
     ]
    },
    {
     "name": "stderr",
     "output_type": "stream",
     "text": [
      " 30%|██▉       | 66/223 [56:18<2:41:24, 61.69s/it]"
     ]
    },
    {
     "name": "stdout",
     "output_type": "stream",
     "text": [
      "Warning: Invalid prediction format: 'C) Everyone benefits.' for question: Which of the following statements is TRUE about the removal of trade barriers?\n"
     ]
    },
    {
     "name": "stderr",
     "output_type": "stream",
     "text": [
      " 30%|███       | 67/223 [57:19<2:39:29, 61.35s/it]"
     ]
    },
    {
     "name": "stdout",
     "output_type": "stream",
     "text": [
      "Warning: Invalid prediction format: 'C) increase; decrease' for question: Taxes and quotas on imports can ______ jobs in industries that import and ________ jobs in industries that export.\n"
     ]
    },
    {
     "name": "stderr",
     "output_type": "stream",
     "text": [
      " 30%|███       | 68/223 [58:20<2:37:53, 61.12s/it]"
     ]
    },
    {
     "name": "stdout",
     "output_type": "stream",
     "text": [
      "Warning: Invalid prediction format: 'C)' for question: Trade restrictions:\n"
     ]
    },
    {
     "name": "stderr",
     "output_type": "stream",
     "text": [
      " 32%|███▏      | 72/223 [1:02:25<2:34:06, 61.23s/it]"
     ]
    },
    {
     "name": "stdout",
     "output_type": "stream",
     "text": [
      "Warning: Invalid prediction format: 'B)' for question: Under free trade, some jobs will be lost, but increased consumer spending power means\n",
      "there will be more jobs in other industries. However, these new jobs are:\n"
     ]
    },
    {
     "name": "stderr",
     "output_type": "stream",
     "text": [
      " 38%|███▊      | 85/223 [1:13:36<2:14:56, 58.67s/it]"
     ]
    },
    {
     "name": "stdout",
     "output_type": "stream",
     "text": [
      "Warning: Invalid prediction format: 'B) opportunity cost' for question: Which economic concept best explains why poorer countries have higher concentrations\n",
      "of child labor?\n"
     ]
    },
    {
     "name": "stderr",
     "output_type": "stream",
     "text": [
      " 46%|████▌     | 102/223 [1:30:51<2:02:26, 60.71s/it]"
     ]
    },
    {
     "name": "stdout",
     "output_type": "stream",
     "text": [
      "Warning: Invalid prediction format: 'C)' for question: For strategic trade protectionism to be effective, the:\n"
     ]
    },
    {
     "name": "stderr",
     "output_type": "stream",
     "text": [
      " 56%|█████▌    | 125/223 [1:37:03<28:31, 17.47s/it]  "
     ]
    },
    {
     "name": "stdout",
     "output_type": "stream",
     "text": [
      "Error code: 429 - {'error': {'code': '429', 'message': 'Requests to the ChatCompletions_Create Operation under Azure OpenAI API version 2024-12-01-preview have exceeded call rate limit of your current AIServices S0 pricing tier. Please retry after 8 seconds. Please go here: https://aka.ms/oai/quotaincrease if you would like to further increase the default rate limit. For Free Account customers, upgrade to Pay as you Go here: https://aka.ms/429TrialUpgrade.'}}\n"
     ]
    },
    {
     "name": "stderr",
     "output_type": "stream",
     "text": [
      " 59%|█████▉    | 132/223 [1:38:58<22:03, 14.55s/it]"
     ]
    },
    {
     "name": "stdout",
     "output_type": "stream",
     "text": [
      "Error code: 429 - {'error': {'code': '429', 'message': 'Requests to the ChatCompletions_Create Operation under Azure OpenAI API version 2024-12-01-preview have exceeded call rate limit of your current AIServices S0 pricing tier. Please retry after 7 seconds. Please go here: https://aka.ms/oai/quotaincrease if you would like to further increase the default rate limit. For Free Account customers, upgrade to Pay as you Go here: https://aka.ms/429TrialUpgrade.'}}\n"
     ]
    },
    {
     "name": "stderr",
     "output_type": "stream",
     "text": [
      " 63%|██████▎   | 141/223 [1:43:36<1:00:05, 43.97s/it]"
     ]
    },
    {
     "name": "stdout",
     "output_type": "stream",
     "text": [
      "Warning: Invalid prediction format: 'B)' for question: The Heckscher-Ohlin model of international trade uses _____ and ______ to explain trade patterns.\n"
     ]
    },
    {
     "name": "stderr",
     "output_type": "stream",
     "text": [
      " 70%|██████▉   | 156/223 [1:58:48<1:08:02, 60.93s/it]"
     ]
    },
    {
     "name": "stdout",
     "output_type": "stream",
     "text": [
      "Warning: Invalid prediction format: 'C) comparative; shirts' for question: Hong Kong is relatively abundant in labor, whereas Canada is relatively abundant in capital. In both countries, shirt production is relatively more labor intensive than computer production. According to the Heckscher-Ohlin model, Hong Kong will have a(n) ________ advantage in the production of __________ .\n"
     ]
    },
    {
     "name": "stderr",
     "output_type": "stream",
     "text": [
      " 83%|████████▎ | 184/223 [2:19:08<11:36, 17.86s/it]  "
     ]
    },
    {
     "name": "stdout",
     "output_type": "stream",
     "text": [
      "Error code: 429 - {'error': {'code': '429', 'message': 'Requests to the ChatCompletions_Create Operation under Azure OpenAI API version 2024-12-01-preview have exceeded call rate limit of your current AIServices S0 pricing tier. Please retry after 7 seconds. Please go here: https://aka.ms/oai/quotaincrease if you would like to further increase the default rate limit. For Free Account customers, upgrade to Pay as you Go here: https://aka.ms/429TrialUpgrade.'}}\n"
     ]
    },
    {
     "name": "stderr",
     "output_type": "stream",
     "text": [
      " 85%|████████▍ | 189/223 [2:20:42<10:40, 18.83s/it]"
     ]
    },
    {
     "name": "stdout",
     "output_type": "stream",
     "text": [
      "Error code: 429 - {'error': {'code': '429', 'message': 'Requests to the ChatCompletions_Create Operation under Azure OpenAI API version 2024-12-01-preview have exceeded call rate limit of your current AIServices S0 pricing tier. Please retry after 9 seconds. Please go here: https://aka.ms/oai/quotaincrease if you would like to further increase the default rate limit. For Free Account customers, upgrade to Pay as you Go here: https://aka.ms/429TrialUpgrade.'}}\n"
     ]
    },
    {
     "name": "stderr",
     "output_type": "stream",
     "text": [
      " 88%|████████▊ | 196/223 [2:22:36<06:32, 14.54s/it]"
     ]
    },
    {
     "name": "stdout",
     "output_type": "stream",
     "text": [
      "Error code: 429 - {'error': {'code': '429', 'message': 'Requests to the ChatCompletions_Create Operation under Azure OpenAI API version 2024-12-01-preview have exceeded call rate limit of your current AIServices S0 pricing tier. Please retry after 9 seconds. Please go here: https://aka.ms/oai/quotaincrease if you would like to further increase the default rate limit. For Free Account customers, upgrade to Pay as you Go here: https://aka.ms/429TrialUpgrade.'}}\n"
     ]
    },
    {
     "name": "stderr",
     "output_type": "stream",
     "text": [
      " 94%|█████████▎| 209/223 [2:29:34<12:06, 51.90s/it]"
     ]
    },
    {
     "name": "stdout",
     "output_type": "stream",
     "text": [
      "Warning: Invalid prediction format: 'A) A might import goods X and Z.' for question: Consider a world economy with two countries, A and B, and three goods, X, Y and Z. The goods are produced with labor alone, with constant returns to scale. Let aIJ be the labor requirement to produce a unit of good I in country J. Suppose aXA/aXB > aY A/aY B > aZA/aZB . What is a true statment concerning  the pattern of trade?\n"
     ]
    },
    {
     "name": "stderr",
     "output_type": "stream",
     "text": [
      " 95%|█████████▌| 212/223 [2:32:36<10:33, 57.60s/it]"
     ]
    },
    {
     "name": "stdout",
     "output_type": "stream",
     "text": [
      "Warning: Invalid prediction format: 'C) The real wage of unskilled workers' for question: The country Rich is relatively well endowed with skilled labor whereas its trade partner, Poor, is relatively well endowed with unskilled labor. The two countries produce and freely trade two goods using the same constant-returns-to-scale technolo-\n",
      "gies. The countries have identical and homothetic preferences. In this setting, when trade opens:\n"
     ]
    },
    {
     "name": "stderr",
     "output_type": "stream",
     "text": [
      " 96%|█████████▌| 213/223 [2:33:37<09:46, 58.61s/it]"
     ]
    },
    {
     "name": "stdout",
     "output_type": "stream",
     "text": [
      "Warning: Invalid prediction format: 'C)' for question: A country is more likely to benefit if\n"
     ]
    },
    {
     "name": "stderr",
     "output_type": "stream",
     "text": [
      "100%|██████████| 223/223 [2:39:16<00:00, 42.85s/it]"
     ]
    },
    {
     "name": "stdout",
     "output_type": "stream",
     "text": [
      "\n",
      "Detailed Answer Matching:\n",
      "------------------------\n",
      "Found 65 mismatches out of 223 questions\n",
      "\n",
      "Results for gpt-35-turbo: ICL Prompting\n",
      "==================================================\n",
      "Overall Accuracy: 0.7085 (158/223 correct)\n",
      "\n",
      "Per-Category Performance:\n",
      "------------------------------\n",
      "Theory:\n",
      "  Accuracy: 0.6944\n",
      "  Correct: 25/36\n",
      "\n",
      "Numerical:\n",
      "  Accuracy: 0.5455\n",
      "  Correct: 6/11\n",
      "\n",
      "Grouping:\n",
      "  Accuracy: 0.6000\n",
      "  Correct: 3/5\n",
      "\n",
      "Fill In Blank:\n",
      "  Accuracy: 0.6707\n",
      "  Correct: 55/82\n",
      "\n",
      "True False:\n",
      "  Accuracy: 0.7753\n",
      "  Correct: 69/89\n",
      "\n"
     ]
    },
    {
     "name": "stderr",
     "output_type": "stream",
     "text": [
      "\n"
     ]
    }
   ],
   "source": [
    "for MODEL_NAME in [\"gpt-35-turbo\"]:\n",
    "    y_pred = []\n",
    "    y_true = []\n",
    "    \n",
    "    for row in tqdm(df_test.iterrows(), total=len(df_test)):\n",
    "        time.sleep(1)\n",
    "        question = row[1][\"Question\"]\n",
    "        choice_a = row[1][\"OptionA\"]\n",
    "        choice_b = row[1][\"OptionB\"]\n",
    "        choice_c = row[1][\"OptionC\"]\n",
    "        choice_d = row[1][\"OptionD\"]\n",
    "        label = row[1][\"Answer\"].strip().upper()  # Clean the true label\n",
    "        \n",
    "        if MODEL_NAME == \"gpt-35-turbo\":\n",
    "            if row[1][\"true_false\"]:\n",
    "                prediction = prompt_chatgpt_with_backoff(icl_prompt_tf.format(\n",
    "                    question, choice_a, choice_b))\n",
    "            else:\n",
    "                prediction = prompt_chatgpt_with_backoff(icl_prompt.format(\n",
    "                    question, choice_a, choice_b, choice_c, choice_d))\n",
    "        \n",
    "        # Clean and extract the predicted answer letter more carefully\n",
    "        pred_letter = prediction.strip().upper()\n",
    "        # If the prediction contains more than just the letter, take first word\n",
    "        if len(pred_letter) > 1:\n",
    "            pred_letter = pred_letter.split()[0]\n",
    "        \n",
    "        # Validate prediction format\n",
    "        if pred_letter not in ['A', 'B', 'C', 'D']:\n",
    "            print(f\"Warning: Invalid prediction format: '{prediction}' for question: {question}\")\n",
    "            pred_letter = pred_letter[0] # take first letter\n",
    "        \n",
    "        y_pred.append(pred_letter)\n",
    "        y_true.append(label)\n",
    "\n",
    "        \"\"\"\n",
    "        # Print debugging info for all predictions\n",
    "        if pred_letter != label:\n",
    "            print(\"\\nIncorrect Prediction:\")\n",
    "            print(f\"Question: {question}\")\n",
    "            print(f\"Choices:\")\n",
    "            print(f\"A) {choice_a}\")\n",
    "            print(f\"B) {choice_b}\")\n",
    "            if not row[1][\"true_false\"]:\n",
    "                print(f\"C) {choice_c}\")\n",
    "                print(f\"D) {choice_d}\")\n",
    "            print(f\"Raw model response: '{prediction}'\")\n",
    "            print(f\"Processed prediction: '{pred_letter}'\")\n",
    "            print(f\"Correct answer: '{label}'\")\n",
    "            print(\"=========================================================\")\n",
    "        \"\"\"\n",
    "\n",
    "    # Calculate overall accuracy\n",
    "    total_questions = len(y_true)\n",
    "    correct_answers = sum(1 for pred, true in zip(y_pred, y_true) if pred == true)\n",
    "    overall_accuracy = correct_answers / total_questions\n",
    "\n",
    "    # Print detailed matching information\n",
    "    print(\"\\nDetailed Answer Matching:\")\n",
    "    print(\"------------------------\")\n",
    "    mismatches = [(i, pred, true) for i, (pred, true) in enumerate(zip(y_pred, y_true)) if pred != true]\n",
    "    print(f\"Found {len(mismatches)} mismatches out of {total_questions} questions\")\n",
    "    \n",
    "    # Calculate per-category accuracies\n",
    "    categories = ['theory', 'numerical', 'grouping', 'fill_in_blank', 'true_false']\n",
    "    category_results = {}\n",
    "    \n",
    "    for category in categories:\n",
    "        # Get questions belonging to this category\n",
    "        category_indices = df_test[df_test[category] == 1].index\n",
    "        \n",
    "        if len(category_indices) > 0:\n",
    "            category_correct = sum(1 for i in category_indices if y_pred[i] == y_true[i])\n",
    "            category_accuracy = category_correct / len(category_indices)\n",
    "            category_results[category] = {\n",
    "                'accuracy': category_accuracy,\n",
    "                'correct': category_correct,\n",
    "                'total': len(category_indices)\n",
    "            }\n",
    "\n",
    "    # Print results\n",
    "    print(f\"\\nResults for {MODEL_NAME}: ICL Prompting\")\n",
    "    print(\"=\" * 50)\n",
    "    print(f\"Overall Accuracy: {overall_accuracy:.4f} ({correct_answers}/{total_questions} correct)\")\n",
    "    print(\"\\nPer-Category Performance:\")\n",
    "    print(\"-\" * 30)\n",
    "    \n",
    "    for category, results in category_results.items():\n",
    "        print(f\"{category.replace('_', ' ').title()}:\")\n",
    "        print(f\"  Accuracy: {results['accuracy']:.4f}\")\n",
    "        print(f\"  Correct: {results['correct']}/{results['total']}\")\n",
    "        print()\n",
    "\n",
    "    # Save results to file\n",
    "    with open(\"results/LLM_results.txt\", \"a\") as f:\n",
    "        f.write(f\"\\nResults for {MODEL_NAME}: ICL Prompting\\n\")\n",
    "        f.write(\"=\" * 50 + \"\\n\")\n",
    "        f.write(f\"Overall Accuracy: {overall_accuracy:.4f} ({correct_answers}/{total_questions} correct)\\n\")\n",
    "        f.write(\"\\nPer-Category Performance:\\n\")\n",
    "        f.write(\"-\" * 30 + \"\\n\")\n",
    "        \n",
    "        for category, results in category_results.items():\n",
    "            f.write(f\"{category.replace('_', ' ').title()}:\\n\")\n",
    "            f.write(f\"  Accuracy: {results['accuracy']:.4f}\\n\")\n",
    "            f.write(f\"  Correct: {results['correct']}/{results['total']}\\n\\n\")\n",
    "        f.write(\"\\n\")"
   ]
  }
 ],
 "metadata": {
  "kernelspec": {
   "display_name": ".venv",
   "language": "python",
   "name": "python3"
  },
  "language_info": {
   "codemirror_mode": {
    "name": "ipython",
    "version": 3
   },
   "file_extension": ".py",
   "mimetype": "text/x-python",
   "name": "python",
   "nbconvert_exporter": "python",
   "pygments_lexer": "ipython3",
   "version": "3.11.11"
  }
 },
 "nbformat": 4,
 "nbformat_minor": 2
}
