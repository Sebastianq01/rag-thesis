{
 "cells": [
  {
   "cell_type": "code",
   "execution_count": null,
   "metadata": {
    "vscode": {
     "languageId": "plaintext"
    }
   },
   "outputs": [],
   "source": [
    "### Moirai\n",
    "\n",
    "Github: https://github.com/SalesforceAIResearch/uni2ts"
   ]
  },
  {
   "cell_type": "code",
   "execution_count": null,
   "metadata": {
    "vscode": {
     "languageId": "plaintext"
    }
   },
   "outputs": [],
   "source": [
    "!pip install -U -r requirements.txt"
   ]
  },
  {
   "cell_type": "code",
   "execution_count": null,
   "metadata": {
    "vscode": {
     "languageId": "plaintext"
    }
   },
   "outputs": [],
   "source": [
    "import pandas as pd\n",
    "import numpy as np\n",
    "import matplotlib.pyplot as plt\n",
    "import scipy.stats as stats\n",
    "import torch\n",
    "import torch.nn as nn\n",
    "import torch.optim as optim\n",
    "import torch.nn.functional as F\n",
    "from torch.utils.data import DataLoader, TensorDataset\n",
    "from sklearn.model_selection import train_test_split\n",
    "from sklearn.preprocessing import StandardScaler\n",
    "from sklearn.metrics import mean_squared_error, r2_score\n",
    "import statsmodels.api as sm\n",
    "from forecasting_utils import *\n"
   ]
  },
  {
   "cell_type": "code",
   "execution_count": null,
   "metadata": {
    "vscode": {
     "languageId": "plaintext"
    }
   },
   "outputs": [],
   "source": [
    "df_processed = pd.read_csv('data/processed_FRED_Data.csv')\n",
    "df_processed.head()\n",
    "variables = list(df_processed.select_dtypes(include=[np.number]).columns)"
   ]
  },
  {
   "cell_type": "code",
   "execution_count": null,
   "metadata": {
    "vscode": {
     "languageId": "plaintext"
    }
   },
   "outputs": [],
   "source": [
    "from moirai import Moirai\n",
    "\n",
    "def run_moirai(train_data, test_data, performance_tracker):\n",
    "    # Initialize Moirai\n",
    "    model = Moirai(\n",
    "        input_size=train_data.shape[1],\n",
    "        forecast_horizon=len(test_data)\n",
    "    )\n",
    "    \n",
    "    # Train model\n",
    "    model.fit(train_data)\n",
    "    \n",
    "    # Make predictions\n",
    "    predictions = model.predict(len(test_data))\n",
    "    \n",
    "    # Calculate metrics\n",
    "    rmse = np.sqrt(mean_squared_error(test_data[target_column], predictions))\n",
    "    r2 = r2_score(test_data[target_column], predictions)\n",
    "    mape = np.mean(np.abs((test_data[target_column] - predictions) / test_data[target_column])) * 100\n",
    "    \n",
    "    # Track performance\n",
    "    performance_tracker.add_metric('Moirai', rmse, r2, mape)"
   ]
  }
 ],
 "metadata": {
  "language_info": {
   "name": "python"
  }
 },
 "nbformat": 4,
 "nbformat_minor": 2
}
