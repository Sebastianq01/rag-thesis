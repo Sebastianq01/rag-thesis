{
 "cells": [
  {
   "cell_type": "code",
   "execution_count": null,
   "metadata": {},
   "outputs": [],
   "source": [
    "### TimesFM\n",
    "\n",
    "Github: https://github.com/google-research/timesfm"
   ]
  },
  {
   "cell_type": "code",
   "execution_count": null,
   "metadata": {},
   "outputs": [],
   "source": [
    "!pip install -U -r requirements.txt"
   ]
  },
  {
   "cell_type": "code",
   "execution_count": null,
   "metadata": {},
   "outputs": [],
   "source": [
    "import pandas as pd\n",
    "import numpy as np\n",
    "import matplotlib.pyplot as plt\n",
    "import scipy.stats as stats\n",
    "import torch\n",
    "import torch.nn as nn\n",
    "import torch.optim as optim\n",
    "import torch.nn.functional as F\n",
    "from torch.utils.data import DataLoader, TensorDataset\n",
    "from sklearn.model_selection import train_test_split\n",
    "from sklearn.preprocessing import StandardScaler\n",
    "from sklearn.metrics import mean_squared_error, r2_score\n",
    "import statsmodels.api as sm\n",
    "from forecasting_utils import *\n"
   ]
  },
  {
   "cell_type": "code",
   "execution_count": null,
   "metadata": {},
   "outputs": [],
   "source": [
    "df_processed = pd.read_csv('data/processed_FRED_Data.csv')\n",
    "df_processed.head()\n",
    "variables = list(df_processed.select_dtypes(include=[np.number]).columns)"
   ]
  },
  {
   "cell_type": "code",
   "execution_count": null,
   "metadata": {},
   "outputs": [],
   "source": [
    "!pip -q install huggingface_hub[cli] utilsforecast praxis paxml jax[cpu]==0.4.26 einshape"
   ]
  },
  {
   "cell_type": "code",
   "execution_count": null,
   "metadata": {},
   "outputs": [],
   "source": [
    "!pip install -e git+https://github.com/google-research/timesfm.git@master#egg=timesfm"
   ]
  },
  {
   "cell_type": "code",
   "execution_count": null,
   "metadata": {},
   "outputs": [],
   "source": [
    "import timesfm"
   ]
  },
  {
   "cell_type": "code",
   "execution_count": null,
   "metadata": {},
   "outputs": [],
   "source": [
    "import timesfm\n",
    "\n",
    "def run_timesfm(train_data, test_data, performance_tracker):\n",
    "    # Initialize TimesFM\n",
    "    model = TimesFM(\n",
    "        forecast_length=len(test_data),\n",
    "        backcast_length=len(train_data),\n",
    "        batch_size=32\n",
    "    )\n",
    "    \n",
    "    # Train model\n",
    "    model.fit(\n",
    "        train_data,\n",
    "        epochs=100,\n",
    "        validation_data=test_data\n",
    "    )\n",
    "    \n",
    "    # Make predictions\n",
    "    predictions = model.predict(test_data)\n",
    "    \n",
    "    # Calculate metrics\n",
    "    rmse = np.sqrt(mean_squared_error(test_data[target_column], predictions))\n",
    "    r2 = r2_score(test_data[target_column], predictions)\n",
    "    mape = np.mean(np.abs((test_data[target_column] - predictions) / test_data[target_column])) * 100\n",
    "    \n",
    "    # Track performance\n",
    "    performance_tracker.add_metric('TimesFM', rmse, r2, mape)"
   ]
  }
 ],
 "metadata": {
  "kernelspec": {
   "display_name": ".venv",
   "language": "python",
   "name": "python3"
  },
  "language_info": {
   "name": "python",
   "version": "3.11.11"
  }
 },
 "nbformat": 4,
 "nbformat_minor": 2
}
