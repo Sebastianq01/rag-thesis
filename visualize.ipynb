{
 "cells": [
  {
   "cell_type": "code",
   "execution_count": null,
   "metadata": {},
   "outputs": [],
   "source": [
    "import pandas as pd\n",
    "import numpy as np\n",
    "import matplotlib.pyplot as plt\n",
    "import seaborn as sns\n",
    "import scipy.stats as stats\n",
    "import torch\n",
    "import torch.nn as nn\n",
    "import torch.optim as optim\n",
    "import torch.nn.functional as F\n",
    "from torch.utils.data import DataLoader, TensorDataset\n",
    "from sklearn.model_selection import train_test_split\n",
    "from sklearn.preprocessing import StandardScaler\n",
    "from sklearn.metrics import mean_squared_error, r2_score\n",
    "import statsmodels.api as sm\n",
    "\n",
    "from tslms import *\n",
    "from regressions import *\n"
   ]
  },
  {
   "cell_type": "code",
   "execution_count": null,
   "metadata": {},
   "outputs": [],
   "source": [
    "def plot_model_comparisons(performance_tracker):\n",
    "    plt.figure(figsize=(15, 15))\n",
    "    \n",
    "    # Plot RMSE comparison\n",
    "    plt.subplot(3, 1, 1)\n",
    "    for model, metrics in performance_tracker.metrics.items():\n",
    "        if metrics['RMSE']:\n",
    "            plt.plot(metrics['RMSE'], label=model)\n",
    "    plt.title('RMSE Comparison Across Models')\n",
    "    plt.xlabel('Epoch')\n",
    "    plt.ylabel('RMSE')\n",
    "    plt.legend()\n",
    "    \n",
    "    # Plot R² comparison\n",
    "    plt.subplot(3, 1, 2)\n",
    "    for model, metrics in performance_tracker.metrics.items():\n",
    "        if metrics['R2']:\n",
    "            plt.plot(metrics['R2'], label=model)\n",
    "    plt.title('R² Comparison Across Models')\n",
    "    plt.xlabel('Epoch')\n",
    "    plt.ylabel('R²')\n",
    "    plt.legend()\n",
    "    \n",
    "    # Plot MAPE comparison\n",
    "    plt.subplot(3, 1, 3)\n",
    "    for model, metrics in performance_tracker.metrics.items():\n",
    "        if metrics['MAPE']:\n",
    "            plt.plot(metrics['MAPE'], label=model)\n",
    "    plt.title('MAPE Comparison Across Models')\n",
    "    plt.xlabel('Epoch')\n",
    "    plt.ylabel('MAPE (%)')\n",
    "    plt.legend()\n",
    "    \n",
    "    plt.tight_layout()\n",
    "    plt.show()"
   ]
  }
 ],
 "metadata": {
  "language_info": {
   "name": "python"
  }
 },
 "nbformat": 4,
 "nbformat_minor": 2
}
