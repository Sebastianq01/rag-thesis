{
 "cells": [
  {
   "cell_type": "code",
   "execution_count": 2,
   "metadata": {},
   "outputs": [
    {
     "name": "stderr",
     "output_type": "stream",
     "text": [
      "\n",
      "A module that was compiled using NumPy 1.x cannot be run in\n",
      "NumPy 2.2.3 as it may crash. To support both 1.x and 2.x\n",
      "versions of NumPy, modules must be compiled with NumPy 2.0.\n",
      "Some module may need to rebuild instead e.g. with 'pybind11>=2.12'.\n",
      "\n",
      "If you are a user of the module, the easiest solution will be to\n",
      "downgrade to 'numpy<2' or try to upgrade the affected module.\n",
      "We expect that some modules will need time to support NumPy 2.\n",
      "\n",
      "Traceback (most recent call last):  File \"<frozen runpy>\", line 198, in _run_module_as_main\n",
      "  File \"<frozen runpy>\", line 88, in _run_code\n",
      "  File \"/Users/sebastianquintero/Library/CloudStorage/OneDrive-QuinteroOrthodontics/MIT/MEng/rag-thesis/.venv/lib/python3.11/site-packages/ipykernel_launcher.py\", line 18, in <module>\n",
      "    app.launch_new_instance()\n",
      "  File \"/Users/sebastianquintero/Library/CloudStorage/OneDrive-QuinteroOrthodontics/MIT/MEng/rag-thesis/.venv/lib/python3.11/site-packages/traitlets/config/application.py\", line 1075, in launch_instance\n",
      "    app.start()\n",
      "  File \"/Users/sebastianquintero/Library/CloudStorage/OneDrive-QuinteroOrthodontics/MIT/MEng/rag-thesis/.venv/lib/python3.11/site-packages/ipykernel/kernelapp.py\", line 739, in start\n",
      "    self.io_loop.start()\n",
      "  File \"/Users/sebastianquintero/Library/CloudStorage/OneDrive-QuinteroOrthodontics/MIT/MEng/rag-thesis/.venv/lib/python3.11/site-packages/tornado/platform/asyncio.py\", line 205, in start\n",
      "    self.asyncio_loop.run_forever()\n",
      "  File \"/usr/local/Cellar/python@3.11/3.11.11/Frameworks/Python.framework/Versions/3.11/lib/python3.11/asyncio/base_events.py\", line 608, in run_forever\n",
      "    self._run_once()\n",
      "  File \"/usr/local/Cellar/python@3.11/3.11.11/Frameworks/Python.framework/Versions/3.11/lib/python3.11/asyncio/base_events.py\", line 1936, in _run_once\n",
      "    handle._run()\n",
      "  File \"/usr/local/Cellar/python@3.11/3.11.11/Frameworks/Python.framework/Versions/3.11/lib/python3.11/asyncio/events.py\", line 84, in _run\n",
      "    self._context.run(self._callback, *self._args)\n",
      "  File \"/Users/sebastianquintero/Library/CloudStorage/OneDrive-QuinteroOrthodontics/MIT/MEng/rag-thesis/.venv/lib/python3.11/site-packages/ipykernel/kernelbase.py\", line 545, in dispatch_queue\n",
      "    await self.process_one()\n",
      "  File \"/Users/sebastianquintero/Library/CloudStorage/OneDrive-QuinteroOrthodontics/MIT/MEng/rag-thesis/.venv/lib/python3.11/site-packages/ipykernel/kernelbase.py\", line 534, in process_one\n",
      "    await dispatch(*args)\n",
      "  File \"/Users/sebastianquintero/Library/CloudStorage/OneDrive-QuinteroOrthodontics/MIT/MEng/rag-thesis/.venv/lib/python3.11/site-packages/ipykernel/kernelbase.py\", line 437, in dispatch_shell\n",
      "    await result\n",
      "  File \"/Users/sebastianquintero/Library/CloudStorage/OneDrive-QuinteroOrthodontics/MIT/MEng/rag-thesis/.venv/lib/python3.11/site-packages/ipykernel/ipkernel.py\", line 362, in execute_request\n",
      "    await super().execute_request(stream, ident, parent)\n",
      "  File \"/Users/sebastianquintero/Library/CloudStorage/OneDrive-QuinteroOrthodontics/MIT/MEng/rag-thesis/.venv/lib/python3.11/site-packages/ipykernel/kernelbase.py\", line 778, in execute_request\n",
      "    reply_content = await reply_content\n",
      "  File \"/Users/sebastianquintero/Library/CloudStorage/OneDrive-QuinteroOrthodontics/MIT/MEng/rag-thesis/.venv/lib/python3.11/site-packages/ipykernel/ipkernel.py\", line 449, in do_execute\n",
      "    res = shell.run_cell(\n",
      "  File \"/Users/sebastianquintero/Library/CloudStorage/OneDrive-QuinteroOrthodontics/MIT/MEng/rag-thesis/.venv/lib/python3.11/site-packages/ipykernel/zmqshell.py\", line 549, in run_cell\n",
      "    return super().run_cell(*args, **kwargs)\n",
      "  File \"/Users/sebastianquintero/Library/CloudStorage/OneDrive-QuinteroOrthodontics/MIT/MEng/rag-thesis/.venv/lib/python3.11/site-packages/IPython/core/interactiveshell.py\", line 3047, in run_cell\n",
      "    result = self._run_cell(\n",
      "  File \"/Users/sebastianquintero/Library/CloudStorage/OneDrive-QuinteroOrthodontics/MIT/MEng/rag-thesis/.venv/lib/python3.11/site-packages/IPython/core/interactiveshell.py\", line 3102, in _run_cell\n",
      "    result = runner(coro)\n",
      "  File \"/Users/sebastianquintero/Library/CloudStorage/OneDrive-QuinteroOrthodontics/MIT/MEng/rag-thesis/.venv/lib/python3.11/site-packages/IPython/core/async_helpers.py\", line 128, in _pseudo_sync_runner\n",
      "    coro.send(None)\n",
      "  File \"/Users/sebastianquintero/Library/CloudStorage/OneDrive-QuinteroOrthodontics/MIT/MEng/rag-thesis/.venv/lib/python3.11/site-packages/IPython/core/interactiveshell.py\", line 3306, in run_cell_async\n",
      "    has_raised = await self.run_ast_nodes(code_ast.body, cell_name,\n",
      "  File \"/Users/sebastianquintero/Library/CloudStorage/OneDrive-QuinteroOrthodontics/MIT/MEng/rag-thesis/.venv/lib/python3.11/site-packages/IPython/core/interactiveshell.py\", line 3489, in run_ast_nodes\n",
      "    if await self.run_code(code, result, async_=asy):\n",
      "  File \"/Users/sebastianquintero/Library/CloudStorage/OneDrive-QuinteroOrthodontics/MIT/MEng/rag-thesis/.venv/lib/python3.11/site-packages/IPython/core/interactiveshell.py\", line 3549, in run_code\n",
      "    exec(code_obj, self.user_global_ns, self.user_ns)\n",
      "  File \"/var/folders/3b/mhjd36px23sbt4q9lkdqwy_r0000gn/T/ipykernel_5199/3228684241.py\", line 5, in <module>\n",
      "    import torch\n",
      "  File \"/Users/sebastianquintero/Library/CloudStorage/OneDrive-QuinteroOrthodontics/MIT/MEng/rag-thesis/.venv/lib/python3.11/site-packages/torch/__init__.py\", line 1477, in <module>\n",
      "    from .functional import *  # noqa: F403\n",
      "  File \"/Users/sebastianquintero/Library/CloudStorage/OneDrive-QuinteroOrthodontics/MIT/MEng/rag-thesis/.venv/lib/python3.11/site-packages/torch/functional.py\", line 9, in <module>\n",
      "    import torch.nn.functional as F\n",
      "  File \"/Users/sebastianquintero/Library/CloudStorage/OneDrive-QuinteroOrthodontics/MIT/MEng/rag-thesis/.venv/lib/python3.11/site-packages/torch/nn/__init__.py\", line 1, in <module>\n",
      "    from .modules import *  # noqa: F403\n",
      "  File \"/Users/sebastianquintero/Library/CloudStorage/OneDrive-QuinteroOrthodontics/MIT/MEng/rag-thesis/.venv/lib/python3.11/site-packages/torch/nn/modules/__init__.py\", line 35, in <module>\n",
      "    from .transformer import TransformerEncoder, TransformerDecoder, \\\n",
      "  File \"/Users/sebastianquintero/Library/CloudStorage/OneDrive-QuinteroOrthodontics/MIT/MEng/rag-thesis/.venv/lib/python3.11/site-packages/torch/nn/modules/transformer.py\", line 20, in <module>\n",
      "    device: torch.device = torch.device(torch._C._get_default_device()),  # torch.device('cpu'),\n",
      "/Users/sebastianquintero/Library/CloudStorage/OneDrive-QuinteroOrthodontics/MIT/MEng/rag-thesis/.venv/lib/python3.11/site-packages/torch/nn/modules/transformer.py:20: UserWarning: Failed to initialize NumPy: _ARRAY_API not found (Triggered internally at /Users/runner/work/pytorch/pytorch/pytorch/torch/csrc/utils/tensor_numpy.cpp:84.)\n",
      "  device: torch.device = torch.device(torch._C._get_default_device()),  # torch.device('cpu'),\n",
      "/Users/sebastianquintero/Library/CloudStorage/OneDrive-QuinteroOrthodontics/MIT/MEng/rag-thesis/.venv/lib/python3.11/site-packages/tqdm/auto.py:21: TqdmWarning: IProgress not found. Please update jupyter and ipywidgets. See https://ipywidgets.readthedocs.io/en/stable/user_install.html\n",
      "  from .autonotebook import tqdm as notebook_tqdm\n"
     ]
    },
    {
     "data": {
      "text/html": [
       "<div>\n",
       "<style scoped>\n",
       "    .dataframe tbody tr th:only-of-type {\n",
       "        vertical-align: middle;\n",
       "    }\n",
       "\n",
       "    .dataframe tbody tr th {\n",
       "        vertical-align: top;\n",
       "    }\n",
       "\n",
       "    .dataframe thead th {\n",
       "        text-align: right;\n",
       "    }\n",
       "</style>\n",
       "<table border=\"1\" class=\"dataframe\">\n",
       "  <thead>\n",
       "    <tr style=\"text-align: right;\">\n",
       "      <th></th>\n",
       "      <th>Question</th>\n",
       "      <th>OptionA</th>\n",
       "      <th>OptionB</th>\n",
       "      <th>OptionC</th>\n",
       "      <th>OptionD</th>\n",
       "      <th>Answer</th>\n",
       "      <th>Feedback</th>\n",
       "      <th>theory</th>\n",
       "      <th>numerical</th>\n",
       "      <th>grouping</th>\n",
       "      <th>fill_in_blank</th>\n",
       "      <th>true_false</th>\n",
       "    </tr>\n",
       "  </thead>\n",
       "  <tbody>\n",
       "    <tr>\n",
       "      <th>0</th>\n",
       "      <td>One of the reasons protectionists and governme...</td>\n",
       "      <td>quotas generate more revenue for the governmen...</td>\n",
       "      <td>quotas ensure that the quantities of imports a...</td>\n",
       "      <td>quotas create less market distortions than tar...</td>\n",
       "      <td>quotas give less power to politicians than tar...</td>\n",
       "      <td>B</td>\n",
       "      <td>NaN</td>\n",
       "      <td>1</td>\n",
       "      <td>0</td>\n",
       "      <td>0</td>\n",
       "      <td>0</td>\n",
       "      <td>0</td>\n",
       "    </tr>\n",
       "    <tr>\n",
       "      <th>1</th>\n",
       "      <td>In the case of a small country, the effects of...</td>\n",
       "      <td>the government allocates licenses for free to ...</td>\n",
       "      <td>the government auctions off import licenses to...</td>\n",
       "      <td>the government allocates licenses to importers...</td>\n",
       "      <td>the government allocates import licenses direc...</td>\n",
       "      <td>B</td>\n",
       "      <td>NaN</td>\n",
       "      <td>0</td>\n",
       "      <td>1</td>\n",
       "      <td>0</td>\n",
       "      <td>0</td>\n",
       "      <td>0</td>\n",
       "    </tr>\n",
       "    <tr>\n",
       "      <th>2</th>\n",
       "      <td>A small country imports T-shirts. With free tr...</td>\n",
       "      <td>gain $5 million.</td>\n",
       "      <td>lose $5 million.</td>\n",
       "      <td>gain $25 million.</td>\n",
       "      <td>gain $30 million.</td>\n",
       "      <td>C</td>\n",
       "      <td>NaN</td>\n",
       "      <td>0</td>\n",
       "      <td>1</td>\n",
       "      <td>0</td>\n",
       "      <td>0</td>\n",
       "      <td>0</td>\n",
       "    </tr>\n",
       "    <tr>\n",
       "      <th>3</th>\n",
       "      <td>A small country imports T-shirts. With free tr...</td>\n",
       "      <td>gain $7 million.</td>\n",
       "      <td>lose $7 million.</td>\n",
       "      <td>lose $70 million.</td>\n",
       "      <td>lose $77 million.</td>\n",
       "      <td>D</td>\n",
       "      <td>NaN</td>\n",
       "      <td>0</td>\n",
       "      <td>1</td>\n",
       "      <td>0</td>\n",
       "      <td>0</td>\n",
       "      <td>0</td>\n",
       "    </tr>\n",
       "    <tr>\n",
       "      <th>4</th>\n",
       "      <td>A small country imports T-shirts. With free tr...</td>\n",
       "      <td>$30 million</td>\n",
       "      <td>$40 million</td>\n",
       "      <td>$70 million</td>\n",
       "      <td>$240 million</td>\n",
       "      <td>B</td>\n",
       "      <td>NaN</td>\n",
       "      <td>0</td>\n",
       "      <td>1</td>\n",
       "      <td>0</td>\n",
       "      <td>0</td>\n",
       "      <td>0</td>\n",
       "    </tr>\n",
       "    <tr>\n",
       "      <th>...</th>\n",
       "      <td>...</td>\n",
       "      <td>...</td>\n",
       "      <td>...</td>\n",
       "      <td>...</td>\n",
       "      <td>...</td>\n",
       "      <td>...</td>\n",
       "      <td>...</td>\n",
       "      <td>...</td>\n",
       "      <td>...</td>\n",
       "      <td>...</td>\n",
       "      <td>...</td>\n",
       "      <td>...</td>\n",
       "    </tr>\n",
       "    <tr>\n",
       "      <th>218</th>\n",
       "      <td>Specific factors are more likely to favor trad...</td>\n",
       "      <td>True</td>\n",
       "      <td>False</td>\n",
       "      <td>NaN</td>\n",
       "      <td>NaN</td>\n",
       "      <td>A</td>\n",
       "      <td>Workers can move away from the sector whose pr...</td>\n",
       "      <td>0</td>\n",
       "      <td>0</td>\n",
       "      <td>0</td>\n",
       "      <td>0</td>\n",
       "      <td>1</td>\n",
       "    </tr>\n",
       "    <tr>\n",
       "      <th>219</th>\n",
       "      <td>Factor prices are more likely to be equalized ...</td>\n",
       "      <td>True</td>\n",
       "      <td>False</td>\n",
       "      <td>NaN</td>\n",
       "      <td>NaN</td>\n",
       "      <td>B</td>\n",
       "      <td>When countries are not completely specialized,...</td>\n",
       "      <td>0</td>\n",
       "      <td>0</td>\n",
       "      <td>0</td>\n",
       "      <td>0</td>\n",
       "      <td>1</td>\n",
       "    </tr>\n",
       "    <tr>\n",
       "      <th>220</th>\n",
       "      <td>The European Common Agricultural Policy is a b...</td>\n",
       "      <td>True</td>\n",
       "      <td>False</td>\n",
       "      <td>NaN</td>\n",
       "      <td>NaN</td>\n",
       "      <td>B</td>\n",
       "      <td>The European Common Agricultural Policy entail...</td>\n",
       "      <td>0</td>\n",
       "      <td>0</td>\n",
       "      <td>0</td>\n",
       "      <td>0</td>\n",
       "      <td>1</td>\n",
       "    </tr>\n",
       "    <tr>\n",
       "      <th>221</th>\n",
       "      <td>Immigration necessarily lowers wages.</td>\n",
       "      <td>True</td>\n",
       "      <td>False</td>\n",
       "      <td>NaN</td>\n",
       "      <td>NaN</td>\n",
       "      <td>B</td>\n",
       "      <td>For example, when factor price equalization ho...</td>\n",
       "      <td>0</td>\n",
       "      <td>0</td>\n",
       "      <td>0</td>\n",
       "      <td>0</td>\n",
       "      <td>1</td>\n",
       "    </tr>\n",
       "    <tr>\n",
       "      <th>222</th>\n",
       "      <td>Offshoring cannot raise the real wage of the w...</td>\n",
       "      <td>True</td>\n",
       "      <td>False</td>\n",
       "      <td>NaN</td>\n",
       "      <td>NaN</td>\n",
       "      <td>B</td>\n",
       "      <td>Grossman and Rossi-Hansberg offer a scenario u...</td>\n",
       "      <td>0</td>\n",
       "      <td>0</td>\n",
       "      <td>0</td>\n",
       "      <td>0</td>\n",
       "      <td>1</td>\n",
       "    </tr>\n",
       "  </tbody>\n",
       "</table>\n",
       "<p>223 rows × 12 columns</p>\n",
       "</div>"
      ],
      "text/plain": [
       "                                              Question  \\\n",
       "0    One of the reasons protectionists and governme...   \n",
       "1    In the case of a small country, the effects of...   \n",
       "2    A small country imports T-shirts. With free tr...   \n",
       "3    A small country imports T-shirts. With free tr...   \n",
       "4    A small country imports T-shirts. With free tr...   \n",
       "..                                                 ...   \n",
       "218  Specific factors are more likely to favor trad...   \n",
       "219  Factor prices are more likely to be equalized ...   \n",
       "220  The European Common Agricultural Policy is a b...   \n",
       "221              Immigration necessarily lowers wages.   \n",
       "222  Offshoring cannot raise the real wage of the w...   \n",
       "\n",
       "                                               OptionA  \\\n",
       "0    quotas generate more revenue for the governmen...   \n",
       "1    the government allocates licenses for free to ...   \n",
       "2                                     gain $5 million.   \n",
       "3                                     gain $7 million.   \n",
       "4                                          $30 million   \n",
       "..                                                 ...   \n",
       "218                                               True   \n",
       "219                                               True   \n",
       "220                                               True   \n",
       "221                                               True   \n",
       "222                                               True   \n",
       "\n",
       "                                               OptionB  \\\n",
       "0    quotas ensure that the quantities of imports a...   \n",
       "1    the government auctions off import licenses to...   \n",
       "2                                     lose $5 million.   \n",
       "3                                     lose $7 million.   \n",
       "4                                          $40 million   \n",
       "..                                                 ...   \n",
       "218                                              False   \n",
       "219                                              False   \n",
       "220                                              False   \n",
       "221                                              False   \n",
       "222                                              False   \n",
       "\n",
       "                                               OptionC  \\\n",
       "0    quotas create less market distortions than tar...   \n",
       "1    the government allocates licenses to importers...   \n",
       "2                                    gain $25 million.   \n",
       "3                                    lose $70 million.   \n",
       "4                                          $70 million   \n",
       "..                                                 ...   \n",
       "218                                                NaN   \n",
       "219                                                NaN   \n",
       "220                                                NaN   \n",
       "221                                                NaN   \n",
       "222                                                NaN   \n",
       "\n",
       "                                               OptionD Answer  \\\n",
       "0    quotas give less power to politicians than tar...      B   \n",
       "1    the government allocates import licenses direc...      B   \n",
       "2                                    gain $30 million.      C   \n",
       "3                                    lose $77 million.      D   \n",
       "4                                         $240 million      B   \n",
       "..                                                 ...    ...   \n",
       "218                                                NaN      A   \n",
       "219                                                NaN      B   \n",
       "220                                                NaN      B   \n",
       "221                                                NaN      B   \n",
       "222                                                NaN      B   \n",
       "\n",
       "                                              Feedback  theory  numerical  \\\n",
       "0                                                  NaN       1          0   \n",
       "1                                                  NaN       0          1   \n",
       "2                                                  NaN       0          1   \n",
       "3                                                  NaN       0          1   \n",
       "4                                                  NaN       0          1   \n",
       "..                                                 ...     ...        ...   \n",
       "218  Workers can move away from the sector whose pr...       0          0   \n",
       "219  When countries are not completely specialized,...       0          0   \n",
       "220  The European Common Agricultural Policy entail...       0          0   \n",
       "221  For example, when factor price equalization ho...       0          0   \n",
       "222  Grossman and Rossi-Hansberg offer a scenario u...       0          0   \n",
       "\n",
       "     grouping  fill_in_blank  true_false  \n",
       "0           0              0           0  \n",
       "1           0              0           0  \n",
       "2           0              0           0  \n",
       "3           0              0           0  \n",
       "4           0              0           0  \n",
       "..        ...            ...         ...  \n",
       "218         0              0           1  \n",
       "219         0              0           1  \n",
       "220         0              0           1  \n",
       "221         0              0           1  \n",
       "222         0              0           1  \n",
       "\n",
       "[223 rows x 12 columns]"
      ]
     },
     "execution_count": 2,
     "metadata": {},
     "output_type": "execute_result"
    }
   ],
   "source": [
    "import os\n",
    "import pandas as pd\n",
    "import numpy as np\n",
    "from tqdm import tqdm\n",
    "import torch\n",
    "import datasets\n",
    "from transformers import AutoModelForCausalLM, AutoTokenizer, LlamaTokenizerFast, LlamaForCausalLM, LlamaTokenizer\n",
    "from sklearn.metrics import classification_report\n",
    "from peft import PeftModel\n",
    "\n",
    "from eval_utils import *\n",
    "\n",
    "df_test = pd.read_excel(\"data/multipleChoice.xlsx\" )\n",
    "# only keep first 50 rows\n",
    "df_test"
   ]
  },
  {
   "cell_type": "code",
   "execution_count": 3,
   "metadata": {},
   "outputs": [
    {
     "name": "stdout",
     "output_type": "stream",
     "text": [
      "Question Type Distribution:\n",
      "==========================\n",
      "               Count  Percentage (%)\n",
      "theory            36           16.14\n",
      "numerical         11            4.93\n",
      "grouping           5            2.24\n",
      "fill_in_blank     82           36.77\n",
      "true_false        89           39.91\n",
      "\n",
      "Total number of questions: 223\n"
     ]
    }
   ],
   "source": [
    "# Sum up the dummy variables to get counts for each category\n",
    "category_counts = df_test[['theory', 'numerical', 'grouping', 'fill_in_blank', 'true_false']].sum()\n",
    "\n",
    "# Calculate percentages\n",
    "total_questions = len(df_test)\n",
    "category_percentages = (category_counts / total_questions * 100).round(2)\n",
    "\n",
    "# Create a summary DataFrame\n",
    "summary_df = pd.DataFrame({\n",
    "    'Count': category_counts,\n",
    "    'Percentage (%)': category_percentages\n",
    "})\n",
    "\n",
    "print(\"Question Type Distribution:\")\n",
    "print(\"==========================\")\n",
    "print(summary_df)\n",
    "print(f\"\\nTotal number of questions: {total_questions}\")"
   ]
  },
  {
   "cell_type": "code",
   "execution_count": 8,
   "metadata": {},
   "outputs": [
    {
     "name": "stderr",
     "output_type": "stream",
     "text": [
      "  1%|          | 2/223 [00:11<24:38,  6.69s/it]"
     ]
    },
    {
     "name": "stdout",
     "output_type": "stream",
     "text": [
      "\n",
      "Incorrect Prediction:\n",
      "Question: In the case of a small country, the effects of a quota and a tariff are (almost) identical if:\n",
      "Choices:\n",
      "A) the government allocates licenses for free to importers using a rule or process that involves (almost) no resource cost.\n",
      "B) the government auctions off import licenses to the highest bidder.\n",
      "C) the government allocates licenses to importers through application and selection procedures that require the use of substantial resources.\n",
      "D) the government allocates import licenses directly to the public using a free lottery system.\n",
      "Raw model response: 'A'\n",
      "Processed prediction: 'A'\n",
      "Correct answer: 'B'\n",
      "=========================================================\n"
     ]
    },
    {
     "name": "stderr",
     "output_type": "stream",
     "text": [
      "  2%|▏         | 4/223 [00:32<33:28,  9.17s/it]"
     ]
    },
    {
     "name": "stdout",
     "output_type": "stream",
     "text": [
      "\n",
      "Incorrect Prediction:\n",
      "Question: A small country imports T-shirts. With free trade at a world price of $10, domestic production is 10 million T-shirts and domestic consumption is 42 million T-shirts. The country's government now decides to impose a quota to limit T-shirt imports to 20 million per year. With the import quota in place, the domestic price rises to $12 per T-shirt and domestic production rises to 15 million T-shirts per year. The quota on T-shirts causes domestic consumers to:\n",
      "Choices:\n",
      "A) gain $7 million.\n",
      "B) lose $7 million.\n",
      "C) lose $70 million.\n",
      "D) lose $77 million.\n",
      "Raw model response: 'B'\n",
      "Processed prediction: 'B'\n",
      "Correct answer: 'D'\n",
      "=========================================================\n"
     ]
    },
    {
     "name": "stderr",
     "output_type": "stream",
     "text": [
      "  2%|▏         | 5/223 [00:43<36:15,  9.98s/it]"
     ]
    },
    {
     "name": "stdout",
     "output_type": "stream",
     "text": [
      "Error code: 429 - {'error': {'code': '429', 'message': 'Requests to the ChatCompletions_Create Operation under Azure OpenAI API version 2024-12-01-preview have exceeded call rate limit of your current AIServices S0 pricing tier. Please retry after 1 second. Please go here: https://aka.ms/oai/quotaincrease if you would like to further increase the default rate limit. For Free Account customers, upgrade to Pay as you Go here: https://aka.ms/429TrialUpgrade.'}}\n"
     ]
    },
    {
     "name": "stderr",
     "output_type": "stream",
     "text": [
      "  3%|▎         | 6/223 [01:28<1:17:58, 21.56s/it]"
     ]
    },
    {
     "name": "stdout",
     "output_type": "stream",
     "text": [
      "\n",
      "Incorrect Prediction:\n",
      "Question: A small country imports T-shirts. With free trade at a world price of $10, domestic production is 10 million T-shirts and domestic consumption is 42 million T-shirts. The country's government now decides to impose a quota to limit T-shirt imports to 20 million per year. With the import quota in place, the domestic price rises to $12 per T-shirt and domestic production rises to 15 million T-shirts per year. If the government auctions the import licenses, the national well-being will ________ by:\n",
      "Choices:\n",
      "A) increase; $40 million.\n",
      "B) decrease; $12 million.\n",
      "C) increase; $65 million.\n",
      "D) decrease; $5 million.\n",
      "Raw model response: 'C'\n",
      "Processed prediction: 'C'\n",
      "Correct answer: 'B'\n",
      "=========================================================\n"
     ]
    },
    {
     "name": "stderr",
     "output_type": "stream",
     "text": [
      "  4%|▎         | 8/223 [01:48<55:36, 15.52s/it]  "
     ]
    },
    {
     "name": "stdout",
     "output_type": "stream",
     "text": [
      "\n",
      "Incorrect Prediction:\n",
      "Question: When a large country imposes an import quota:\n",
      "Choices:\n",
      "A) the product's world price rises.\n",
      "B) the product's world price falls.\n",
      "C) the product's domestic price falls.\n",
      "D) domestic production of the product falls.\n",
      "Raw model response: 'A'\n",
      "Processed prediction: 'A'\n",
      "Correct answer: 'B'\n",
      "=========================================================\n"
     ]
    },
    {
     "name": "stderr",
     "output_type": "stream",
     "text": [
      "  4%|▍         | 10/223 [02:11<47:27, 13.37s/it]"
     ]
    },
    {
     "name": "stdout",
     "output_type": "stream",
     "text": [
      "\n",
      "Incorrect Prediction:\n",
      "Question: With a voluntary export restraint (VER), the markup revenue (economic rent) created for the quantitatively limited trade is collected by:\n",
      "Choices:\n",
      "A) the government of the importing county.\n",
      "B)  the consumers in the importing country.\n",
      "C) the producers in the importing country.\n",
      "D) the exporting firms in the foreign countries\n",
      "Raw model response: 'A'\n",
      "Processed prediction: 'A'\n",
      "Correct answer: 'D'\n",
      "=========================================================\n"
     ]
    },
    {
     "name": "stderr",
     "output_type": "stream",
     "text": [
      "  6%|▌         | 13/223 [02:42<40:02, 11.44s/it]"
     ]
    },
    {
     "name": "stdout",
     "output_type": "stream",
     "text": [
      "\n",
      "Incorrect Prediction:\n",
      "Question: The World Trade Organization has rules that try to limit the use of tariffs but not the use of nontariff barriers (NTBs).\n",
      "Choices:\n",
      "A) True\n",
      "B) False\n",
      "Raw model response: 'A'\n",
      "Processed prediction: 'A'\n",
      "Correct answer: 'B'\n",
      "=========================================================\n"
     ]
    },
    {
     "name": "stderr",
     "output_type": "stream",
     "text": [
      "  7%|▋         | 15/223 [03:05<39:20, 11.35s/it]"
     ]
    },
    {
     "name": "stdout",
     "output_type": "stream",
     "text": [
      "\n",
      "Incorrect Prediction:\n",
      "Question: Unlike a tariff, a quota does not cause either a production effect or a consumption effect.\n",
      "Choices:\n",
      "A) True\n",
      "B) False\n",
      "Raw model response: 'A'\n",
      "Processed prediction: 'A'\n",
      "Correct answer: 'B'\n",
      "=========================================================\n"
     ]
    },
    {
     "name": "stderr",
     "output_type": "stream",
     "text": [
      " 13%|█▎        | 28/223 [05:28<36:45, 11.31s/it]"
     ]
    },
    {
     "name": "stdout",
     "output_type": "stream",
     "text": [
      "\n",
      "Incorrect Prediction:\n",
      "Question:  If the government's goal is to induce early production, even when the new firms are not cost competitive by world standards, a barrier to the import of the product produced by these firms would be an ideal policy.\n",
      "Choices:\n",
      "A) True\n",
      "B) False\n",
      "Raw model response: 'A'\n",
      "Processed prediction: 'A'\n",
      "Correct answer: 'B'\n",
      "=========================================================\n"
     ]
    },
    {
     "name": "stderr",
     "output_type": "stream",
     "text": [
      " 13%|█▎        | 30/223 [05:49<34:59, 10.88s/it]"
     ]
    },
    {
     "name": "stdout",
     "output_type": "stream",
     "text": [
      "\n",
      "Incorrect Prediction:\n",
      "Question: If the domestic firms do not supply anything at the world price, the government should lower the barriers to importing the product to spur domestic production.\n",
      "Choices:\n",
      "A) True\n",
      "B) False\n",
      "Raw model response: 'A'\n",
      "Processed prediction: 'A'\n",
      "Correct answer: 'B'\n",
      "=========================================================\n"
     ]
    },
    {
     "name": "stderr",
     "output_type": "stream",
     "text": [
      " 14%|█▍        | 31/223 [05:59<34:20, 10.73s/it]"
     ]
    },
    {
     "name": "stdout",
     "output_type": "stream",
     "text": [
      "\n",
      "Incorrect Prediction:\n",
      "Question: In a first-best world, imports would not cause import-competing firms to go out of business and workers in these industries to lose their jobs.\n",
      "Choices:\n",
      "A) True\n",
      "B) False\n",
      "Raw model response: 'A'\n",
      "Processed prediction: 'A'\n",
      "Correct answer: 'B'\n",
      "=========================================================\n"
     ]
    },
    {
     "name": "stderr",
     "output_type": "stream",
     "text": [
      " 15%|█▍        | 33/223 [06:20<33:22, 10.54s/it]"
     ]
    },
    {
     "name": "stdout",
     "output_type": "stream",
     "text": [
      "\n",
      "Incorrect Prediction:\n",
      "Question: The most efficient policy to maintain production in import-competing industries is to impose barriers on imports.\n",
      "Choices:\n",
      "A) True\n",
      "B) False\n",
      "Raw model response: 'A'\n",
      "Processed prediction: 'A'\n",
      "Correct answer: 'B'\n",
      "=========================================================\n"
     ]
    },
    {
     "name": "stderr",
     "output_type": "stream",
     "text": [
      " 15%|█▌        | 34/223 [06:30<33:01, 10.49s/it]"
     ]
    },
    {
     "name": "stdout",
     "output_type": "stream",
     "text": [
      "\n",
      "Incorrect Prediction:\n",
      "Question: In a first-best world, if rising import competition is driving domestic producers out of business, the government must intervene to protect the domestic firms.\n",
      "Choices:\n",
      "A) True\n",
      "B) False\n",
      "Raw model response: 'A'\n",
      "Processed prediction: 'A'\n",
      "Correct answer: 'B'\n",
      "=========================================================\n"
     ]
    },
    {
     "name": "stderr",
     "output_type": "stream",
     "text": [
      " 16%|█▌        | 35/223 [06:41<32:45, 10.46s/it]"
     ]
    },
    {
     "name": "stdout",
     "output_type": "stream",
     "text": [
      "\n",
      "Incorrect Prediction:\n",
      "Question: In the United States, trade adjustment assistance:\n",
      "Choices:\n",
      "A) provides workers who have been displaced from import-competing firms with additional months of unemployment compensation.\n",
      "B) provides subsidies to firms who produce exportable commodities.\n",
      "C) provides incentives for workers to search for new jobs outside an import-competing industry before they lose their jobs in this industry.\n",
      "D) is often criticized on the ground that it provides benefits to millions of workers each year who have not actually been affected by increased imports.\n",
      "Raw model response: 'D'\n",
      "Processed prediction: 'D'\n",
      "Correct answer: 'A'\n",
      "=========================================================\n"
     ]
    },
    {
     "name": "stderr",
     "output_type": "stream",
     "text": [
      " 19%|█▉        | 42/223 [07:59<33:50, 11.22s/it]"
     ]
    },
    {
     "name": "stdout",
     "output_type": "stream",
     "text": [
      "\n",
      "Incorrect Prediction:\n",
      "Question: A tariff on a good when the world price is lower than the domestic price leads to:\n",
      "Choices:\n",
      "A) tariff revenues that will be lower than under free trade.\n",
      "B) domestic imports that will be higher than under free trade.\n",
      "C) lower domestic consumption of the good than under free trade.\n",
      "D) lower domestic production of the good than under free trade.\n",
      "Raw model response: 'B'\n",
      "Processed prediction: 'B'\n",
      "Correct answer: 'C'\n",
      "=========================================================\n"
     ]
    },
    {
     "name": "stderr",
     "output_type": "stream",
     "text": [
      " 22%|██▏       | 49/223 [09:15<31:40, 10.92s/it]"
     ]
    },
    {
     "name": "stdout",
     "output_type": "stream",
     "text": [
      "\n",
      "Incorrect Prediction:\n",
      "Question: Which of the following statements is TRUE?\n",
      "I. If the United States bans the importation of bananas, consumer surplus will decrease.\n",
      "II. If the United States bans the importation of bananas, producer surplus will decrease.\n",
      "III. If the United States bans the importation of bananas, it will produce bananas at a\n",
      "cost exceeding their world purchase price.\n",
      "Choices:\n",
      "A) I, II, and III\n",
      "B) I and II only\n",
      "C) I and III only\n",
      "D) II and III only\n",
      "Raw model response: 'B'\n",
      "Processed prediction: 'B'\n",
      "Correct answer: 'C'\n",
      "=========================================================\n"
     ]
    },
    {
     "name": "stderr",
     "output_type": "stream",
     "text": [
      " 23%|██▎       | 51/223 [09:36<31:18, 10.92s/it]"
     ]
    },
    {
     "name": "stdout",
     "output_type": "stream",
     "text": [
      "\n",
      "Incorrect Prediction:\n",
      "Question: Suppose that a tariff increases domestic production of a good from 25 million units to 75 million units and raises the domestic price by $1.50. Assuming a linear domestic supply curve and a perfectly elastic world supply curve, what is the value of the resources wasted by increased domestic production?\n",
      "Choices:\n",
      "A) $37.5 million\n",
      "B) $50 million\n",
      "C) $75 million\n",
      "D) $150 million\n",
      "Raw model response: 'C'\n",
      "Processed prediction: 'C'\n",
      "Correct answer: 'A'\n",
      "=========================================================\n"
     ]
    },
    {
     "name": "stderr",
     "output_type": "stream",
     "text": [
      " 23%|██▎       | 52/223 [09:47<30:47, 10.80s/it]"
     ]
    },
    {
     "name": "stdout",
     "output_type": "stream",
     "text": [
      "\n",
      "Incorrect Prediction:\n",
      "Question: If a tariff decreases domestic consumption of a good from 230 million units to 150 million units and raises the domestic price by $1.50, given a linear domestic demand curve and a perfectly elastic world supply curve, what is the value of the unexploited gains from trade caused by decreased domestic consumption?\n",
      "Choices:\n",
      "A) $45 million\n",
      "B) $60 million\n",
      "C) $80 million\n",
      "D) $120 million\n",
      "Raw model response: 'C'\n",
      "Processed prediction: 'C'\n",
      "Correct answer: 'B'\n",
      "=========================================================\n"
     ]
    },
    {
     "name": "stderr",
     "output_type": "stream",
     "text": [
      " 27%|██▋       | 61/223 [11:26<30:54, 11.45s/it]"
     ]
    },
    {
     "name": "stdout",
     "output_type": "stream",
     "text": [
      "\n",
      "Incorrect Prediction:\n",
      "Question: Which statement provides an explanation for tariffs decreasing market efficiency?\n",
      "Choices:\n",
      "A) The supply of goods is not purchased by the buyers with the highest willingness to pay.\n",
      "B) The supply of goods is not produced by the lowest-cost suppliers.\n",
      "C) Prices are not equal to the equilibrium price.\n",
      "D) Deadweight loss is equal to zero\n",
      "Raw model response: 'A'\n",
      "Processed prediction: 'A'\n",
      "Correct answer: 'B'\n",
      "=========================================================\n"
     ]
    },
    {
     "name": "stderr",
     "output_type": "stream",
     "text": [
      " 33%|███▎      | 73/223 [13:37<27:33, 11.03s/it]"
     ]
    },
    {
     "name": "stdout",
     "output_type": "stream",
     "text": [
      "\n",
      "Incorrect Prediction:\n",
      "Question: International Trade does the following:\n",
      "Choices:\n",
      "A) decreases the number of jobs.\n",
      "B) increases the number of jobs.\n",
      "C) moves jobs from export industries to import-competing industries.\n",
      "D) moves jobs from import-competing industries to export industries.\n",
      "Raw model response: 'B'\n",
      "Processed prediction: 'B'\n",
      "Correct answer: 'D'\n",
      "=========================================================\n"
     ]
    },
    {
     "name": "stderr",
     "output_type": "stream",
     "text": [
      " 36%|███▌      | 80/223 [14:56<26:55, 11.30s/it]"
     ]
    },
    {
     "name": "stdout",
     "output_type": "stream",
     "text": [
      "\n",
      "Incorrect Prediction:\n",
      "Question: History has shown that one of the most effective tools against child labor is:\n",
      "Choices:\n",
      "A) regulations\n",
      "B) laws.\n",
      "C) economic growth.\n",
      "D) quotas.\n",
      "Raw model response: 'A'\n",
      "Processed prediction: 'A'\n",
      "Correct answer: 'C'\n",
      "=========================================================\n"
     ]
    },
    {
     "name": "stderr",
     "output_type": "stream",
     "text": [
      " 40%|███▉      | 89/223 [16:33<23:57, 10.73s/it]"
     ]
    },
    {
     "name": "stdout",
     "output_type": "stream",
     "text": [
      "\n",
      "Incorrect Prediction:\n",
      "Question: Consider the following two statements and select the best answer.\n",
      "I. The national security argument might be a valid argument for trade protection.\n",
      "II. Industries with spillover effects should be protected from foreign competition.\n",
      "Choices:\n",
      "A) I and II are both true.\n",
      "B) I and II are both false.\n",
      "C) I is likely to be true, and II is likely to be false.\n",
      "D) I is likely to be false, and II is likely to be true.\n",
      "Raw model response: 'A'\n",
      "Processed prediction: 'A'\n",
      "Correct answer: 'C'\n",
      "=========================================================\n"
     ]
    },
    {
     "name": "stderr",
     "output_type": "stream",
     "text": [
      " 41%|████▏     | 92/223 [17:05<23:05, 10.58s/it]"
     ]
    },
    {
     "name": "stdout",
     "output_type": "stream",
     "text": [
      "\n",
      "Incorrect Prediction:\n",
      "Question: The flu pandemic of 1918 provides an example of:\n",
      "Choices:\n",
      "A) a situation for which it makes sense to protect a domestic industry from\n",
      "international competition.\n",
      "B) how trade restrictions lead to deaths and suffering.\n",
      "C) how child labor affects trade flows between countries.\n",
      "D) strategic trade protectionism.\n",
      "Raw model response: 'B'\n",
      "Processed prediction: 'B'\n",
      "Correct answer: 'A'\n",
      "=========================================================\n"
     ]
    },
    {
     "name": "stderr",
     "output_type": "stream",
     "text": [
      " 42%|████▏     | 93/223 [17:15<22:46, 10.51s/it]"
     ]
    },
    {
     "name": "stdout",
     "output_type": "stream",
     "text": [
      "\n",
      "Incorrect Prediction:\n",
      "Question: Which statement is TRUE?\n",
      "Choices:\n",
      "A) Import restrictions may be the best policy if production in certain industries\n",
      "generates positive spillover effects to other industries.\n",
      "B) It is usually easy to identify industries that generate positive spillover effects.\n",
      "C) It would be more efficient to subsidize industries that generate positive spillover\n",
      "effects than to implement import restrictions.\n",
      "D) Spillover effects from Silicon Valley were the biggest factor leading to increases in\n",
      "productivity in the 1990s.\n",
      "Raw model response: 'A'\n",
      "Processed prediction: 'A'\n",
      "Correct answer: 'C'\n",
      "=========================================================\n"
     ]
    },
    {
     "name": "stderr",
     "output_type": "stream",
     "text": [
      " 43%|████▎     | 97/223 [17:57<21:59, 10.48s/it]"
     ]
    },
    {
     "name": "stdout",
     "output_type": "stream",
     "text": [
      "\n",
      "Incorrect Prediction:\n",
      "Question: The United States is not competitive with Brazil in sugar production partly because:\n",
      "Choices:\n",
      "A) the opportunity cost of land suitable for sugar production in the United States is\n",
      "relatively high.\n",
      "B) the opportunity cost of land suitable to sugar production in Brazil is relatively high.\n",
      "C) the United States does not focus upon sugar production.\n",
      "D) Brazil does not focus upon sugar production.\n",
      "Raw model response: 'B'\n",
      "Processed prediction: 'B'\n",
      "Correct answer: 'A'\n",
      "=========================================================\n"
     ]
    },
    {
     "name": "stderr",
     "output_type": "stream",
     "text": [
      " 44%|████▍     | 99/223 [18:18<21:33, 10.43s/it]"
     ]
    },
    {
     "name": "stdout",
     "output_type": "stream",
     "text": [
      "\n",
      "Incorrect Prediction:\n",
      "Question: Governments can use tariffs to help domestic firms act like a cartel when selling to\n",
      "international buyers:\n",
      "Choices:\n",
      "A) if it's unlikely that other governments would impose retaliatory tariffs.\n",
      "B) and if all governments do this, greater gains are realized by all countries.\n",
      "C) only if international buyers have few substitutes for the domestic good.\n",
      "D) but there are no actual examples of governments trying to do this.\n",
      "Raw model response: 'A'\n",
      "Processed prediction: 'A'\n",
      "Correct answer: 'C'\n",
      "=========================================================\n"
     ]
    },
    {
     "name": "stderr",
     "output_type": "stream",
     "text": [
      " 45%|████▌     | 101/223 [18:39<21:09, 10.41s/it]"
     ]
    },
    {
     "name": "stdout",
     "output_type": "stream",
     "text": [
      "\n",
      "Incorrect Prediction:\n",
      "Question: If the U.S. government wanted to use strategic trade protectionism for U.S.-produced fertilizer it would:\n",
      "Choices:\n",
      "A) place high taxes on foreign-made fertilizer.\n",
      "B) place a trade quota on foreign-made fertilizer.\n",
      "C) subsidize U.S. producers of fertilizer.\n",
      "D) place a tax or put a limit on the exports of U.S. fertilizer.\n",
      "Raw model response: 'A'\n",
      "Processed prediction: 'A'\n",
      "Correct answer: 'D'\n",
      "=========================================================\n"
     ]
    },
    {
     "name": "stderr",
     "output_type": "stream",
     "text": [
      " 46%|████▌     | 103/223 [19:01<21:13, 10.61s/it]"
     ]
    },
    {
     "name": "stdout",
     "output_type": "stream",
     "text": [
      "\n",
      "Incorrect Prediction:\n",
      "Question: The economics of international trade is substantially different from that of ordinary\n",
      "trade.\n",
      "Choices:\n",
      "A) True\n",
      "B) False\n",
      "Raw model response: 'A'\n",
      "Processed prediction: 'A'\n",
      "Correct answer: 'B'\n",
      "=========================================================\n"
     ]
    },
    {
     "name": "stderr",
     "output_type": "stream",
     "text": [
      " 47%|████▋     | 104/223 [19:12<21:41, 10.94s/it]"
     ]
    },
    {
     "name": "stdout",
     "output_type": "stream",
     "text": [
      "\n",
      "Incorrect Prediction:\n",
      "Question: International and intranational trade are very different in terms of economic analysis.\n",
      "Choices:\n",
      "A) True\n",
      "B) False\n",
      "Raw model response: 'A'\n",
      "Processed prediction: 'A'\n",
      "Correct answer: 'B'\n",
      "=========================================================\n"
     ]
    },
    {
     "name": "stderr",
     "output_type": "stream",
     "text": [
      " 48%|████▊     | 106/223 [19:34<21:15, 10.90s/it]"
     ]
    },
    {
     "name": "stdout",
     "output_type": "stream",
     "text": [
      "\n",
      "Incorrect Prediction:\n",
      "Question: In the case of sugar, moving from a situation of no trade to free trade causes both\n",
      "domestic consumption and production to increase.\n",
      "Choices:\n",
      "A) True\n",
      "B) False\n",
      "Raw model response: 'A'\n",
      "Processed prediction: 'A'\n",
      "Correct answer: 'B'\n",
      "=========================================================\n"
     ]
    },
    {
     "name": "stderr",
     "output_type": "stream",
     "text": [
      " 48%|████▊     | 108/223 [19:56<21:01, 10.97s/it]"
     ]
    },
    {
     "name": "stdout",
     "output_type": "stream",
     "text": [
      "\n",
      "Incorrect Prediction:\n",
      "Question: Trade makes people better off when preferences are the same.\n",
      "Choices:\n",
      "A) True\n",
      "B) False\n",
      "Raw model response: 'A'\n",
      "Processed prediction: 'A'\n",
      "Correct answer: 'B'\n",
      "=========================================================\n"
     ]
    },
    {
     "name": "stderr",
     "output_type": "stream",
     "text": [
      " 50%|█████     | 112/223 [20:39<20:26, 11.05s/it]"
     ]
    },
    {
     "name": "stdout",
     "output_type": "stream",
     "text": [
      "\n",
      "Incorrect Prediction:\n",
      "Question: If the United States imports teacups from other countries, then U.S. producers of teacups are better off, and U.S. consumers of teacups are worse off, as a result of trade.\n",
      "Choices:\n",
      "A) True\n",
      "B) False\n",
      "Raw model response: 'A'\n",
      "Processed prediction: 'A'\n",
      "Correct answer: 'B'\n",
      "=========================================================\n"
     ]
    },
    {
     "name": "stderr",
     "output_type": "stream",
     "text": [
      " 52%|█████▏    | 115/223 [21:11<19:24, 10.79s/it]"
     ]
    },
    {
     "name": "stdout",
     "output_type": "stream",
     "text": [
      "\n",
      "Incorrect Prediction:\n",
      "Question: A quota is a stated quality standard that an imported good must reach before it can be\n",
      "allowed into the borders of the importing country.\n",
      "Choices:\n",
      "A) True\n",
      "B) False\n",
      "Raw model response: 'A'\n",
      "Processed prediction: 'A'\n",
      "Correct answer: 'B'\n",
      "=========================================================\n"
     ]
    },
    {
     "name": "stderr",
     "output_type": "stream",
     "text": [
      " 52%|█████▏    | 117/223 [21:33<19:02, 10.78s/it]"
     ]
    },
    {
     "name": "stdout",
     "output_type": "stream",
     "text": [
      "\n",
      "Incorrect Prediction:\n",
      "Question: If the world price of a good is greater than the domestic price in a country that can engage in international trade, then that country becomes an importer of that good.\n",
      "Choices:\n",
      "A) True\n",
      "B) False\n",
      "Raw model response: 'A'\n",
      "Processed prediction: 'A'\n",
      "Correct answer: 'B'\n",
      "=========================================================\n"
     ]
    },
    {
     "name": "stderr",
     "output_type": "stream",
     "text": [
      " 53%|█████▎    | 118/223 [21:45<19:08, 10.94s/it]"
     ]
    },
    {
     "name": "stdout",
     "output_type": "stream",
     "text": [
      "\n",
      "Incorrect Prediction:\n",
      "Question: The tariff diagram illustrates that if the absolute value of the slopes of the demand and supply curves are equal, then the deadweight loss of any tariff always equals the wasted resources due to increased domestic production.\n",
      "Choices:\n",
      "A) True\n",
      "B) False\n",
      "Raw model response: 'B'\n",
      "Processed prediction: 'B'\n",
      "Correct answer: 'A'\n",
      "=========================================================\n"
     ]
    },
    {
     "name": "stderr",
     "output_type": "stream",
     "text": [
      " 56%|█████▌    | 124/223 [22:50<17:35, 10.66s/it]"
     ]
    },
    {
     "name": "stdout",
     "output_type": "stream",
     "text": [
      "\n",
      "Incorrect Prediction:\n",
      "Question: Protectionism policies restrain trade through price controls that burden foreign producers but not domestic producers.\n",
      "Choices:\n",
      "A) True\n",
      "B) False\n",
      "Raw model response: 'A'\n",
      "Processed prediction: 'A'\n",
      "Correct answer: 'B'\n",
      "=========================================================\n"
     ]
    },
    {
     "name": "stderr",
     "output_type": "stream",
     "text": [
      " 61%|██████    | 136/223 [25:00<15:55, 10.98s/it]"
     ]
    },
    {
     "name": "stdout",
     "output_type": "stream",
     "text": [
      "\n",
      "Incorrect Prediction:\n",
      "Question: Free trade has reduced the number of jobs in U.S. manufacturing as well as the overall\n",
      "number of jobs in the U.S. economy.\n",
      "Choices:\n",
      "A) True\n",
      "B) False\n",
      "Raw model response: 'A'\n",
      "Processed prediction: 'A'\n",
      "Correct answer: 'B'\n",
      "=========================================================\n"
     ]
    },
    {
     "name": "stderr",
     "output_type": "stream",
     "text": [
      " 64%|██████▍   | 143/223 [26:16<14:29, 10.87s/it]"
     ]
    },
    {
     "name": "stdout",
     "output_type": "stream",
     "text": [
      "\n",
      "Incorrect Prediction:\n",
      "Question: Which statement below is correct?\n",
      "Choices:\n",
      "A) The HO model assumes that all resources can freely move between industries.\n",
      "B) The specific-factors model assumes that all resources can freely move between industries.\n",
      "C) Both the HO and the specific-factor models assume that all resources can freely move between industries.\n",
      "D) Neither the HO nor the specific-factor model assumes that all resources can freely move between industries.\n",
      "Raw model response: 'D'\n",
      "Processed prediction: 'D'\n",
      "Correct answer: 'A'\n",
      "=========================================================\n"
     ]
    },
    {
     "name": "stderr",
     "output_type": "stream",
     "text": [
      " 65%|██████▍   | 144/223 [26:27<14:29, 11.01s/it]"
     ]
    },
    {
     "name": "stdout",
     "output_type": "stream",
     "text": [
      "\n",
      "Incorrect Prediction:\n",
      "Question: The Heckscher-Ohlin model assumes that factors of production can move freely _______ , but cannot move _______.\n",
      "Choices:\n",
      "A) domestically; internationally\n",
      "B) after they are fully trained; before the training period is over\n",
      "C) internationally; domestically\n",
      "D) within unskilled occupations; into high-skill jobs\n",
      "Raw model response: 'C'\n",
      "Processed prediction: 'C'\n",
      "Correct answer: 'A'\n",
      "=========================================================\n"
     ]
    },
    {
     "name": "stderr",
     "output_type": "stream",
     "text": [
      " 65%|██████▌   | 145/223 [26:37<14:03, 10.82s/it]"
     ]
    },
    {
     "name": "stdout",
     "output_type": "stream",
     "text": [
      "\n",
      "Incorrect Prediction:\n",
      "Question: In a capital-intensive industry, the capital/labor ratio will:\n",
      "Choices:\n",
      "A) rise as the wage/rental ratio falls.\n",
      "B) fall as the wage/rental ratio falls.\n",
      "C) rise as the country's capital stock rises.\n",
      "D) fall as the country's capital stock falls.\n",
      "Raw model response: 'A'\n",
      "Processed prediction: 'A'\n",
      "Correct answer: 'B'\n",
      "=========================================================\n"
     ]
    },
    {
     "name": "stderr",
     "output_type": "stream",
     "text": [
      " 65%|██████▌   | 146/223 [26:49<14:11, 11.06s/it]"
     ]
    },
    {
     "name": "stdout",
     "output_type": "stream",
     "text": [
      "\n",
      "Incorrect Prediction:\n",
      "Question: The Heckscher-Ohlin model assumes that production techniques within a nation use the factors of production:\n",
      "Choices:\n",
      "A) at different intensities depending on changing technology and which nation you are\n",
      "discussing.\n",
      "B) at different intensities for each industry, so that one is more or less intensive in that factor\n",
      "than the other.\n",
      "C) at the same intensity for each industry—for example, the ratio of capital to labor is the\n",
      "same for every industry in the nation.\n",
      "D) in no definite pattern.\n",
      "Raw model response: 'C'\n",
      "Processed prediction: 'C'\n",
      "Correct answer: 'B'\n",
      "=========================================================\n"
     ]
    },
    {
     "name": "stderr",
     "output_type": "stream",
     "text": [
      " 66%|██████▋   | 148/223 [27:11<13:49, 11.06s/it]"
     ]
    },
    {
     "name": "stdout",
     "output_type": "stream",
     "text": [
      "\n",
      "Incorrect Prediction:\n",
      "Question: Which of the following is not an assumption that the Heckscher-Ohlin model makes?\n",
      "Choices:\n",
      "A) The quantity of capital and labor in two nations is different for each nation—so we have different “endowments” of capital and labor.\n",
      "B) The quantity of capital and labor in two nations is relatively abundant in one nation and relatively scarce in the other.\n",
      "C) The quantity of capital and labor in two nations is fixed in the short run.\n",
      "D)  Labor and capital move between countries.\n",
      "Raw model response: 'C'\n",
      "Processed prediction: 'C'\n",
      "Correct answer: 'D'\n",
      "=========================================================\n"
     ]
    },
    {
     "name": "stderr",
     "output_type": "stream",
     "text": [
      " 67%|██████▋   | 150/223 [27:33<13:27, 11.06s/it]"
     ]
    },
    {
     "name": "stdout",
     "output_type": "stream",
     "text": [
      "\n",
      "Incorrect Prediction:\n",
      "Question: The Possibilities Production Frontier is bowed out in the Heckscher-Ohlin model because:\n",
      "Choices:\n",
      "A) capital is specific to computer production.\n",
      "B) labor is specific to shoe production.\n",
      "C) capital is better suited to computer production than shoe production.\n",
      "D) labor is specific to shoe production, capital is specific to computer production, and capital\n",
      "is better suited to computer production than shoe production.\n",
      "Raw model response: 'D'\n",
      "Processed prediction: 'D'\n",
      "Correct answer: 'C'\n",
      "=========================================================\n",
      "Error code: 429 - {'error': {'code': '429', 'message': 'Requests to the ChatCompletions_Create Operation under Azure OpenAI API version 2024-12-01-preview have exceeded call rate limit of your current AIServices S0 pricing tier. Please retry after 4 seconds. Please go here: https://aka.ms/oai/quotaincrease if you would like to further increase the default rate limit. For Free Account customers, upgrade to Pay as you Go here: https://aka.ms/429TrialUpgrade.'}}\n"
     ]
    },
    {
     "name": "stderr",
     "output_type": "stream",
     "text": [
      " 69%|██████▊   | 153/223 [28:30<16:57, 14.53s/it]"
     ]
    },
    {
     "name": "stdout",
     "output_type": "stream",
     "text": [
      "\n",
      "Incorrect Prediction:\n",
      "Question: Consider two products, automobiles and shoes. If shoes are labor intensive and automobiles are capital intensive, what can we expect in free-trade conditions?\n",
      "Choices:\n",
      "A) The relative price of automobiles in the auto-exporting country will decrease.\n",
      "B) The relative price of shoes in the shoe-exporting country will increase.\n",
      "C) More shoes will be produced by the capital-abundant country.\n",
      "D) More automobiles will be produced by the labor-abundant country.\n",
      "Raw model response: 'A'\n",
      "Processed prediction: 'A'\n",
      "Correct answer: 'B'\n",
      "=========================================================\n"
     ]
    },
    {
     "name": "stderr",
     "output_type": "stream",
     "text": [
      " 70%|███████   | 157/223 [29:12<12:32, 11.39s/it]"
     ]
    },
    {
     "name": "stdout",
     "output_type": "stream",
     "text": [
      "\n",
      "Incorrect Prediction:\n",
      "Question: If there are only two nations, one nation's exports are the other's imports; which of the following is identical for both nations?\n",
      "Choices:\n",
      "A) equilibrium relative price\n",
      "B) trade triangle\n",
      "C) opportunity cost\n",
      "D) equilibrium relative price, trade triangle, and opportunity cost\n",
      "Raw model response: 'A'\n",
      "Processed prediction: 'A'\n",
      "Correct answer: 'D'\n",
      "=========================================================\n"
     ]
    },
    {
     "name": "stderr",
     "output_type": "stream",
     "text": [
      " 71%|███████   | 158/223 [29:22<12:01, 11.10s/it]"
     ]
    },
    {
     "name": "stdout",
     "output_type": "stream",
     "text": [
      "\n",
      "Incorrect Prediction:\n",
      "Question: Suppose that Home is a labor-abundant country. When trade occurs with Foreign, a capital-\n",
      "abundant country, the Hecksher-Ohlin model predicts that:\n",
      "Choices:\n",
      "A) the price of the labor-intensive good will rise in Home.\n",
      "B) the price of the labor-intensive good will rise in Foreign.\n",
      "C) the price of the capital-intensive good will fall in Foreign.\n",
      "D) the price of the capital-intensive good will rise in Home.\n",
      "Raw model response: 'B'\n",
      "Processed prediction: 'B'\n",
      "Correct answer: 'A'\n",
      "=========================================================\n"
     ]
    },
    {
     "name": "stderr",
     "output_type": "stream",
     "text": [
      " 73%|███████▎  | 162/223 [30:16<13:27, 13.24s/it]"
     ]
    },
    {
     "name": "stdout",
     "output_type": "stream",
     "text": [
      "\n",
      "Incorrect Prediction:\n",
      "Question: Compared with other countries, the United States' effective factor endowment is greatest for:\n",
      "Choices:\n",
      "A) capital\n",
      "B) R&D scientists.\n",
      "C) arable land.\n",
      "D) unskilled labor.\n",
      "Raw model response: 'A'\n",
      "Processed prediction: 'A'\n",
      "Correct answer: 'B'\n",
      "=========================================================\n"
     ]
    },
    {
     "name": "stderr",
     "output_type": "stream",
     "text": [
      " 73%|███████▎  | 163/223 [30:27<12:26, 12.44s/it]"
     ]
    },
    {
     "name": "stdout",
     "output_type": "stream",
     "text": [
      "\n",
      "Incorrect Prediction:\n",
      "Question: If Japanese workers receive lower wages in the production of autos compared with American workers, then:\n",
      "Choices:\n",
      "A) Japan must have a comparative advantage in the production of autos.\n",
      "B) Japan must have an absolute advantage in the production of autos.\n",
      "C)  auto production costs must be lower in Japan than in the United States.\n",
      "D) auto production costs could be lower in the United States if U.S. labor productivity is higher than Japanese labor productivity.\n",
      "Raw model response: 'A'\n",
      "Processed prediction: 'A'\n",
      "Correct answer: 'D'\n",
      "=========================================================\n"
     ]
    },
    {
     "name": "stderr",
     "output_type": "stream",
     "text": [
      " 74%|███████▍  | 165/223 [30:48<11:02, 11.42s/it]"
     ]
    },
    {
     "name": "stdout",
     "output_type": "stream",
     "text": [
      "\n",
      "Incorrect Prediction:\n",
      "Question: In a labor-abundant country, free trade will cause a(n) __________ in the rental of capital and a(n) _________ in the marginal product of capital.\n",
      "Choices:\n",
      "A) increase; increase\n",
      "B) increase; decrease\n",
      "C) decrease; decrease\n",
      "D) decrease; increase\n",
      "Raw model response: 'B'\n",
      "Processed prediction: 'B'\n",
      "Correct answer: 'C'\n",
      "=========================================================\n"
     ]
    },
    {
     "name": "stderr",
     "output_type": "stream",
     "text": [
      " 75%|███████▍  | 167/223 [31:09<10:18, 11.05s/it]"
     ]
    },
    {
     "name": "stdout",
     "output_type": "stream",
     "text": [
      "\n",
      "Incorrect Prediction:\n",
      "Question: With the “opening” of trade, the item exported experiences a ________ in demand and therefore a ________ in its relative (domestic) price, whereas the item imported experiences a(n) ________ in demand and therefore a(n) ________ in its relative (domestic) price.\n",
      "Choices:\n",
      "A) rise, rise; decrease, decrease\n",
      "B) rise, fall; increase, decrease\n",
      "C) fall, fall; increase, increase\n",
      "D) fall, rise; decrease, increase\n",
      "Raw model response: 'B'\n",
      "Processed prediction: 'B'\n",
      "Correct answer: 'A'\n",
      "=========================================================\n"
     ]
    },
    {
     "name": "stderr",
     "output_type": "stream",
     "text": [
      " 76%|███████▌  | 169/223 [31:33<10:22, 11.53s/it]"
     ]
    },
    {
     "name": "stdout",
     "output_type": "stream",
     "text": [
      "\n",
      "Incorrect Prediction:\n",
      "Question: The major difference between tariffs and import quotas is that:\n",
      "Choices:\n",
      "A) tariffs create deadweight losses, but import quotas do not.\n",
      "B) tariffs help domestic consumers, and import quotas help domestic producers.\n",
      "C) tariffs raise revenue for the government, but import quotas create a surplus for import license holders.\n",
      "D) All of the above are correct.\n",
      "Raw model response: 'D'\n",
      "Processed prediction: 'D'\n",
      "Correct answer: 'C'\n",
      "=========================================================\n"
     ]
    },
    {
     "name": "stderr",
     "output_type": "stream",
     "text": [
      " 77%|███████▋  | 171/223 [31:55<09:45, 11.27s/it]"
     ]
    },
    {
     "name": "stdout",
     "output_type": "stream",
     "text": [
      "\n",
      "Incorrect Prediction:\n",
      "Question: If the Japanese steel industry subsidizes the steel which it sells to the U.S.:\n",
      "Choices:\n",
      "A) the U.S. should protect its domestic steel industry from this unfair competition.\n",
      "B) the harm done to U.S. steel producers from this unfair competition exceeds the gain to U.S. consumers of cheap Japanese steel\n",
      "C) the harm done to U.S. steel producers is less than the benefit to U.S. consumers of steel.\n",
      "D) the U.S. should subsidize the products it sells to Japan.\n",
      "Raw model response: 'A'\n",
      "Processed prediction: 'A'\n",
      "Correct answer: 'C'\n",
      "=========================================================\n"
     ]
    },
    {
     "name": "stderr",
     "output_type": "stream",
     "text": [
      " 77%|███████▋  | 172/223 [32:05<09:20, 10.99s/it]"
     ]
    },
    {
     "name": "stdout",
     "output_type": "stream",
     "text": [
      "\n",
      "Incorrect Prediction:\n",
      "Question: If the U.S. threatens to impose a tariff on German cars if Germany does not remove agricultural subsidies, what happens?\n",
      "Choices:\n",
      "A) the U.S. will be better off no matter how Germany responds.\n",
      "B) the U.S. will be better off if Germany gives in, and will be no worse off if it doesn't.\n",
      "C) the U.S. will be worse off if Germany doesn’t give in to the threat.\n",
      "D) the U.S. will be worse off no matter how Germany responds.\n",
      "Raw model response: 'B'\n",
      "Processed prediction: 'B'\n",
      "Correct answer: 'C'\n",
      "=========================================================\n"
     ]
    },
    {
     "name": "stderr",
     "output_type": "stream",
     "text": [
      " 78%|███████▊  | 174/223 [32:27<08:54, 10.90s/it]"
     ]
    },
    {
     "name": "stdout",
     "output_type": "stream",
     "text": [
      "\n",
      "Incorrect Prediction:\n",
      "Question: Trade decisions are based on the concept of absolute advantage.\n",
      "Choices:\n",
      "A) True\n",
      "B) False\n",
      "Raw model response: 'A'\n",
      "Processed prediction: 'A'\n",
      "Correct answer: 'B'\n",
      "=========================================================\n"
     ]
    },
    {
     "name": "stderr",
     "output_type": "stream",
     "text": [
      " 79%|███████▉  | 177/223 [33:00<08:25, 10.99s/it]"
     ]
    },
    {
     "name": "stdout",
     "output_type": "stream",
     "text": [
      "\n",
      "Incorrect Prediction:\n",
      "Question: If the world price of a good is greater than the domestic price in a country that can engage in international trade, that country would become an importer of that good.\n",
      "Choices:\n",
      "A) True\n",
      "B) False\n",
      "Raw model response: 'A'\n",
      "Processed prediction: 'A'\n",
      "Correct answer: 'B'\n",
      "=========================================================\n"
     ]
    },
    {
     "name": "stderr",
     "output_type": "stream",
     "text": [
      " 81%|████████  | 180/223 [33:32<07:44, 10.81s/it]"
     ]
    },
    {
     "name": "stdout",
     "output_type": "stream",
     "text": [
      "\n",
      "Incorrect Prediction:\n",
      "Question: If Peru exports coffee to the rest of the world, Peruvian producers of coffee are worse off as a result of trade, but Peruvian consumers of coffee are better off.\n",
      "Choices:\n",
      "A) True\n",
      "B) False\n",
      "Raw model response: 'A'\n",
      "Processed prediction: 'A'\n",
      "Correct answer: 'B'\n",
      "=========================================================\n"
     ]
    },
    {
     "name": "stderr",
     "output_type": "stream",
     "text": [
      " 82%|████████▏ | 182/223 [33:53<07:15, 10.62s/it]"
     ]
    },
    {
     "name": "stdout",
     "output_type": "stream",
     "text": [
      "\n",
      "Incorrect Prediction:\n",
      "Question: In general, if a country allows trade and becomes an importer of a good, domestic producers of the good are worse off, domestic consumers of the good are better off, but the economic well-being of the country decreases.\n",
      "Choices:\n",
      "A) True\n",
      "B) False\n",
      "Raw model response: 'A'\n",
      "Processed prediction: 'A'\n",
      "Correct answer: 'B'\n",
      "=========================================================\n"
     ]
    },
    {
     "name": "stderr",
     "output_type": "stream",
     "text": [
      " 83%|████████▎ | 184/223 [34:16<07:06, 10.93s/it]"
     ]
    },
    {
     "name": "stdout",
     "output_type": "stream",
     "text": [
      "\n",
      "Incorrect Prediction:\n",
      "Question: Suppose the Ivory Coast, a small country, imports wheat at the world price of $4 per bushel. If the Ivory Coast imposes a tariff of $1 per bushel on imported wheat, the price of wheat in Ivory Coast will increase, but by less than $1, ceteris paribus.\n",
      "Choices:\n",
      "A) True\n",
      "B) False\n",
      "Raw model response: 'A'\n",
      "Processed prediction: 'A'\n",
      "Correct answer: 'B'\n",
      "=========================================================\n"
     ]
    },
    {
     "name": "stderr",
     "output_type": "stream",
     "text": [
      " 84%|████████▍ | 188/223 [35:00<06:17, 10.79s/it]"
     ]
    },
    {
     "name": "stdout",
     "output_type": "stream",
     "text": [
      "\n",
      "Incorrect Prediction:\n",
      "Question: Suppose France imposes a tariff on imported U.S. computers. The tariff will raise the price of computers, and will make both French producers and consumers of computers worse off.\n",
      "Choices:\n",
      "A) True\n",
      "B) False\n",
      "Raw model response: 'A'\n",
      "Processed prediction: 'A'\n",
      "Correct answer: 'B'\n",
      "=========================================================\n"
     ]
    },
    {
     "name": "stderr",
     "output_type": "stream",
     "text": [
      " 85%|████████▍ | 189/223 [35:10<06:02, 10.66s/it]"
     ]
    },
    {
     "name": "stdout",
     "output_type": "stream",
     "text": [
      "\n",
      "Incorrect Prediction:\n",
      "Question: If a small country imposes a tariff on an imported good, domestic sellers will gain producer surplus, the government will gain tariff revenue, and domestic consumers will gain consumer surplus.\n",
      "Choices:\n",
      "A) True\n",
      "B) False\n",
      "Raw model response: 'A'\n",
      "Processed prediction: 'A'\n",
      "Correct answer: 'B'\n",
      "=========================================================\n"
     ]
    },
    {
     "name": "stderr",
     "output_type": "stream",
     "text": [
      " 88%|████████▊ | 196/223 [36:27<04:52, 10.82s/it]"
     ]
    },
    {
     "name": "stdout",
     "output_type": "stream",
     "text": [
      "\n",
      "Incorrect Prediction:\n",
      "Question: If Canada were to subsidize the production of wool blankets, and sell them in the U.S. at artificially low prices, the U.S. economy would be worse off.\n",
      "Choices:\n",
      "A) True\n",
      "B) False\n",
      "Raw model response: 'A'\n",
      "Processed prediction: 'A'\n",
      "Correct answer: 'B'\n",
      "=========================================================\n"
     ]
    },
    {
     "name": "stderr",
     "output_type": "stream",
     "text": [
      " 89%|████████▉ | 199/223 [36:59<04:16, 10.68s/it]"
     ]
    },
    {
     "name": "stdout",
     "output_type": "stream",
     "text": [
      "\n",
      "Incorrect Prediction:\n",
      "Question: The United States is a very open economy.\n",
      "Choices:\n",
      "A) True\n",
      "B) False\n",
      "Raw model response: 'A'\n",
      "Processed prediction: 'A'\n",
      "Correct answer: 'B'\n",
      "=========================================================\n"
     ]
    },
    {
     "name": "stderr",
     "output_type": "stream",
     "text": [
      " 91%|█████████ | 202/223 [37:32<03:49, 10.92s/it]"
     ]
    },
    {
     "name": "stdout",
     "output_type": "stream",
     "text": [
      "\n",
      "Incorrect Prediction:\n",
      "Question: A country with higher demand for high-tech goods is more likely to have a comparative advantage in high-tech sectors.\n",
      "Choices:\n",
      "A) True\n",
      "B) False\n",
      "Raw model response: 'A'\n",
      "Processed prediction: 'A'\n",
      "Correct answer: 'B'\n",
      "=========================================================\n"
     ]
    },
    {
     "name": "stderr",
     "output_type": "stream",
     "text": [
      " 91%|█████████ | 203/223 [37:43<03:35, 10.76s/it]"
     ]
    },
    {
     "name": "stdout",
     "output_type": "stream",
     "text": [
      "\n",
      "Incorrect Prediction:\n",
      "Question: Growth is more likely to increase welfare if it is export-biased.\n",
      "Choices:\n",
      "A) True\n",
      "B) False\n",
      "Raw model response: 'A'\n",
      "Processed prediction: 'A'\n",
      "Correct answer: 'B'\n",
      "=========================================================\n"
     ]
    },
    {
     "name": "stderr",
     "output_type": "stream",
     "text": [
      " 91%|█████████▏| 204/223 [37:53<03:21, 10.63s/it]"
     ]
    },
    {
     "name": "stdout",
     "output_type": "stream",
     "text": [
      "\n",
      "Incorrect Prediction:\n",
      "Question: According to the Ricardian model, real income is only a function of relative produc-\n",
      "tivity across sectors.\n",
      "Choices:\n",
      "A) True\n",
      "B) False\n",
      "Raw model response: 'A'\n",
      "Processed prediction: 'A'\n",
      "Correct answer: 'B'\n",
      "=========================================================\n"
     ]
    },
    {
     "name": "stderr",
     "output_type": "stream",
     "text": [
      " 92%|█████████▏| 206/223 [38:14<02:58, 10.49s/it]"
     ]
    },
    {
     "name": "stdout",
     "output_type": "stream",
     "text": [
      "\n",
      "Incorrect Prediction:\n",
      "Question: Consider a world economy with two countries, France and Germany. There are two goods, Wine (W ) and Beer (B), with prices pW and pB under free trade. There are LF = 100 individuals in France, who can produce 1 bottle of Wine per person, whereas there are LG = 200 individuals in Germany, who can produce 2 bottles of beer\n",
      "per person. Individuals in both countries spend 1/2 of their income on Wine and 1/2 on Beer. If the number of individuals in the Germany LG grows by 10%:\n",
      "Choices:\n",
      "A) Individuals in France are better oﬀ, but individuals in Germany are worse oﬀ.\n",
      "B) Individuals in Germany are better oﬀ, but individuals in France are worse oﬀ.\n",
      "C) Individuals in both countries are better oﬀ.\n",
      "D) Individuals in France are better oﬀ, but individuals in the Germany are indiﬀerent.\n",
      "Raw model response: 'B'\n",
      "Processed prediction: 'B'\n",
      "Correct answer: 'A'\n",
      "=========================================================\n"
     ]
    },
    {
     "name": "stderr",
     "output_type": "stream",
     "text": [
      " 93%|█████████▎| 207/223 [38:24<02:47, 10.49s/it]"
     ]
    },
    {
     "name": "stdout",
     "output_type": "stream",
     "text": [
      "\n",
      "Incorrect Prediction:\n",
      "Question: Two countries, Big and Small, with identical homothetic preferences, produce two goods, Aircrafts and Computers, using only labor, with constant returns to scale. Big has a labor supply of 200, whereas Small has a labor supply of 30. In Big, the available technology requires 10 units of labor to produce one Aircraft and 4 units of labor to produce one Computer. In Small, the unit labor requirements for Aircraft and Computer are 3 and 1, respectively. Then:\n",
      "Choices:\n",
      "A) Only workers in Big are strictly better oﬀ with free trade than in autarky.\n",
      "B) Only workers in Small are strictly better oﬀ with free trade than in autarky.\n",
      "C) Workers in both countries are strictly better oﬀ with free trade than in autarky.\n",
      "D) We need more information to determine which workers are strictly better oﬀ.\n",
      "Raw model response: 'C'\n",
      "Processed prediction: 'C'\n",
      "Correct answer: 'D'\n",
      "=========================================================\n",
      "Error code: 429 - {'error': {'code': '429', 'message': 'Requests to the ChatCompletions_Create Operation under Azure OpenAI API version 2024-12-01-preview have exceeded call rate limit of your current AIServices S0 pricing tier. Please retry after 1 second. Please go here: https://aka.ms/oai/quotaincrease if you would like to further increase the default rate limit. For Free Account customers, upgrade to Pay as you Go here: https://aka.ms/429TrialUpgrade.'}}\n"
     ]
    },
    {
     "name": "stderr",
     "output_type": "stream",
     "text": [
      " 94%|█████████▎| 209/223 [39:14<03:52, 16.61s/it]"
     ]
    },
    {
     "name": "stdout",
     "output_type": "stream",
     "text": [
      "\n",
      "Incorrect Prediction:\n",
      "Question: Consider a world economy with two countries, A and B, and three goods, X, Y and Z. The goods are produced with labor alone, with constant returns to scale. Let aIJ be the labor requirement to produce a unit of good I in country J. Suppose aXA/aXB > aY A/aY B > aZA/aZB . What is a true statment concerning  the pattern of trade?\n",
      "Choices:\n",
      "A) A might import goods X and Z.\n",
      "B) A might export goods X and Z.\n",
      "C) A might export goods Y and Z.\n",
      "D) A might import goods Y and Z.\n",
      "Raw model response: 'B'\n",
      "Processed prediction: 'B'\n",
      "Correct answer: 'C'\n",
      "=========================================================\n"
     ]
    },
    {
     "name": "stderr",
     "output_type": "stream",
     "text": [
      " 95%|█████████▌| 212/223 [40:05<03:21, 18.30s/it]"
     ]
    },
    {
     "name": "stdout",
     "output_type": "stream",
     "text": [
      "\n",
      "Incorrect Prediction:\n",
      "Question: The country Rich is relatively well endowed with skilled labor whereas its trade partner, Poor, is relatively well endowed with unskilled labor. The two countries produce and freely trade two goods using the same constant-returns-to-scale technolo-\n",
      "gies. The countries have identical and homothetic preferences. In this setting, when trade opens:\n",
      "Choices:\n",
      "A) The real wage of skilled workers in Rich must rise, the real wage of unskilled\n",
      "workers in Rich must fall, and the income rise for skilled workers need not exceed\n",
      "the income fall for unskilled workers.\n",
      "B) The real wage of unskilled workers in Rich must rise, the real wage of skilled\n",
      "workers in Rich must fall, and the income rise for unskilled workers need not exceed the income fall for skilled workers\n",
      "C) The real wage of unskilled workers in Rich must rise, the real wage of skilled\n",
      "workers in Rich must fall, and the income rise for unskilled workers must exceed the income fall for skilled workers.\n",
      "D) The real wage of skilled workers in Rich must rise, the real wage of unskilled workers in Rich must fall, and the income rise for skilled workers must exceed the income fall for unskilled workers.\n",
      "Raw model response: 'C'\n",
      "Processed prediction: 'C'\n",
      "Correct answer: 'D'\n",
      "=========================================================\n"
     ]
    },
    {
     "name": "stderr",
     "output_type": "stream",
     "text": [
      " 96%|█████████▌| 213/223 [40:15<02:39, 15.93s/it]"
     ]
    },
    {
     "name": "stdout",
     "output_type": "stream",
     "text": [
      "\n",
      "Incorrect Prediction:\n",
      "Question: A country is more likely to benefit if\n",
      "Choices:\n",
      "A) It is large and taxes imports.\n",
      "B) It is small and subsidizes exports.\n",
      "C) It is large and subsidizes exports.\n",
      "D) It is small and taxes imports.\n",
      "Raw model response: 'C'\n",
      "Processed prediction: 'C'\n",
      "Correct answer: 'A'\n",
      "=========================================================\n"
     ]
    },
    {
     "name": "stderr",
     "output_type": "stream",
     "text": [
      " 96%|█████████▌| 214/223 [40:26<02:09, 14.41s/it]"
     ]
    },
    {
     "name": "stdout",
     "output_type": "stream",
     "text": [
      "\n",
      "Incorrect Prediction:\n",
      "Question: A country imports chocolate. Imposing an import tariff on chocolate is more likely to be better than imposing an import quota if:\n",
      "Choices:\n",
      "A) The country is large.\n",
      "B) The country is auctioning export licenses to foreigners.\n",
      "C) The country has a single producer of chocolate.\n",
      "D) None of the above.\n",
      "Raw model response: 'D'\n",
      "Processed prediction: 'D'\n",
      "Correct answer: 'C'\n",
      "=========================================================\n"
     ]
    },
    {
     "name": "stderr",
     "output_type": "stream",
     "text": [
      " 96%|█████████▋| 215/223 [40:37<01:45, 13.20s/it]"
     ]
    },
    {
     "name": "stdout",
     "output_type": "stream",
     "text": [
      "\n",
      "Incorrect Prediction:\n",
      "Question: A small open economy exports bicycles. If it introduces a subsidy on exports of bicycles, this will:\n",
      "Choices:\n",
      "A) Decrease exports of bicycles.\n",
      "B) Decrease domestic consumption of bicycles.\n",
      "C) Decrease domestic production of bicycles.\n",
      "D) None of the above.\n",
      "Raw model response: 'D'\n",
      "Processed prediction: 'D'\n",
      "Correct answer: 'B'\n",
      "=========================================================\n"
     ]
    },
    {
     "name": "stderr",
     "output_type": "stream",
     "text": [
      " 97%|█████████▋| 216/223 [40:47<01:26, 12.38s/it]"
     ]
    },
    {
     "name": "stdout",
     "output_type": "stream",
     "text": [
      "\n",
      "Incorrect Prediction:\n",
      "Question: There are two large countries, the United States and China, and two goods, solar panels and soy bean. The United exports soy beans and imports solar panels. If the United States imposes a small import tariff on solar panels, whereas China imposes a small import tariff on soy beans, then:\n",
      "Choices:\n",
      "A) Both countries are better off than under free trade.\n",
      "B) Both countries are worse off than under free trade.\n",
      "C) The United States is better off than under free trade, but China is worse off.\n",
      "D) China is better off than under free trade, but the United States is worse off.\n",
      "Raw model response: 'A'\n",
      "Processed prediction: 'A'\n",
      "Correct answer: 'B'\n",
      "=========================================================\n",
      "Error code: 429 - {'error': {'code': '429', 'message': 'Requests to the ChatCompletions_Create Operation under Azure OpenAI API version 2024-12-01-preview have exceeded call rate limit of your current AIServices S0 pricing tier. Please retry after 2 seconds. Please go here: https://aka.ms/oai/quotaincrease if you would like to further increase the default rate limit. For Free Account customers, upgrade to Pay as you Go here: https://aka.ms/429TrialUpgrade.'}}\n"
     ]
    },
    {
     "name": "stderr",
     "output_type": "stream",
     "text": [
      " 97%|█████████▋| 217/223 [41:26<02:01, 20.28s/it]"
     ]
    },
    {
     "name": "stdout",
     "output_type": "stream",
     "text": [
      "\n",
      "Incorrect Prediction:\n",
      "Question: The production of beef generates negative externalities caused by carbon emissions. If a small open economy exports beef, it will benefit from:\n",
      "Choices:\n",
      "A) A small tax on beef consumption.\n",
      "B) A small subsidy on beef exports.\n",
      "C) Neither of the above.\n",
      "D) Both of the above.\n",
      "Raw model response: 'B'\n",
      "Processed prediction: 'B'\n",
      "Correct answer: 'C'\n",
      "=========================================================\n"
     ]
    },
    {
     "name": "stderr",
     "output_type": "stream",
     "text": [
      " 98%|█████████▊| 218/223 [41:36<01:26, 17.32s/it]"
     ]
    },
    {
     "name": "stdout",
     "output_type": "stream",
     "text": [
      "\n",
      "Incorrect Prediction:\n",
      "Question: In a Ricardian model, workers employed in import-competing sectors are more likely to oppose trade.\n",
      "Choices:\n",
      "A) True\n",
      "B) False\n",
      "Raw model response: 'A'\n",
      "Processed prediction: 'A'\n",
      "Correct answer: 'B'\n",
      "=========================================================\n"
     ]
    },
    {
     "name": "stderr",
     "output_type": "stream",
     "text": [
      " 99%|█████████▊| 220/223 [42:00<00:43, 14.38s/it]"
     ]
    },
    {
     "name": "stdout",
     "output_type": "stream",
     "text": [
      "\n",
      "Incorrect Prediction:\n",
      "Question: Factor prices are more likely to be equalized across countries if countries are completely specialized.\n",
      "Choices:\n",
      "A) True\n",
      "B) False\n",
      "Raw model response: 'A'\n",
      "Processed prediction: 'A'\n",
      "Correct answer: 'B'\n",
      "=========================================================\n"
     ]
    },
    {
     "name": "stderr",
     "output_type": "stream",
     "text": [
      "100%|██████████| 223/223 [42:31<00:00, 11.44s/it]"
     ]
    },
    {
     "name": "stdout",
     "output_type": "stream",
     "text": [
      "\n",
      "Incorrect Prediction:\n",
      "Question: Offshoring cannot raise the real wage of the workers whose jobs are being offshored.\n",
      "Choices:\n",
      "A) True\n",
      "B) False\n",
      "Raw model response: 'A'\n",
      "Processed prediction: 'A'\n",
      "Correct answer: 'B'\n",
      "=========================================================\n",
      "\n",
      "Detailed Answer Matching:\n",
      "------------------------\n",
      "Found 76 mismatches out of 223 questions\n",
      "\n",
      "Results for gpt-35-turbo\n",
      "==================================================\n",
      "Overall Accuracy: 0.6592 (147/223 correct)\n",
      "\n",
      "Per-Category Performance:\n",
      "------------------------------\n",
      "Theory:\n",
      "  Accuracy: 0.7500\n",
      "  Correct: 27/36\n",
      "\n",
      "Numerical:\n",
      "  Accuracy: 0.5455\n",
      "  Correct: 6/11\n",
      "\n",
      "Grouping:\n",
      "  Accuracy: 0.6000\n",
      "  Correct: 3/5\n",
      "\n",
      "Fill In Blank:\n",
      "  Accuracy: 0.6585\n",
      "  Correct: 54/82\n",
      "\n",
      "True False:\n",
      "  Accuracy: 0.6404\n",
      "  Correct: 57/89\n",
      "\n"
     ]
    },
    {
     "name": "stderr",
     "output_type": "stream",
     "text": [
      "\n"
     ]
    }
   ],
   "source": [
    "prompt = \"Answer the following multiple choice question with ONLY a single letter (A, B, C, or D). Do not include any other text, punctuation, or explanation - just the letter.\\n\\\n",
    "Question: {}\\n\\\n",
    "A) {}\\n\\\n",
    "B) {}\\n\\\n",
    "C) {}\\n\\\n",
    "D) {}\\n\\\n",
    "Answer:\"\n",
    "\n",
    "prompt_TF = \"Answer the following true/false question. Respond only with the letter A if the statement is true, or B if the statement is false. Do not include any other text, punctuation, or explanation - just the letter.\\n\\\n",
    "Question: {}\\n\\\n",
    "A) {}\\n\\\n",
    "B) {}\\n\\\n",
    "Answer:\"\n",
    "\n",
    "for MODEL_NAME in [\"gpt-35-turbo\"]:\n",
    "    y_pred = []\n",
    "    y_true = []\n",
    "    \n",
    "    for row in tqdm(df_test.iterrows(), total=len(df_test)):\n",
    "        time.sleep(1)\n",
    "        question = row[1][\"Question\"]\n",
    "        choice_a = row[1][\"OptionA\"]\n",
    "        choice_b = row[1][\"OptionB\"]\n",
    "        choice_c = row[1][\"OptionC\"]\n",
    "        choice_d = row[1][\"OptionD\"]\n",
    "        label = row[1][\"Answer\"].strip().upper()  # Clean the true label\n",
    "        \n",
    "        if MODEL_NAME == \"gpt-35-turbo\":\n",
    "            if row[1][\"true_false\"]:\n",
    "                prediction = prompt_chatgpt_with_backoff(prompt_TF.format(\n",
    "                    question, choice_a, choice_b))\n",
    "            else:\n",
    "                prediction = prompt_chatgpt_with_backoff(prompt.format(\n",
    "                    question, choice_a, choice_b, choice_c, choice_d))\n",
    "        \n",
    "        # Clean and extract the predicted answer letter more carefully\n",
    "        pred_letter = prediction.strip().upper()\n",
    "        # If the prediction contains more than just the letter, take first word\n",
    "        if len(pred_letter) > 1:\n",
    "            pred_letter = pred_letter.split()[0]\n",
    "        \n",
    "        # Validate prediction format\n",
    "        if pred_letter not in ['A', 'B', 'C', 'D']:\n",
    "            print(f\"Warning: Invalid prediction format: '{prediction}' for question: {question}\")\n",
    "            pred_letter = 'INVALID'\n",
    "        \n",
    "        y_pred.append(pred_letter)\n",
    "        y_true.append(label)\n",
    "\n",
    "        # Print debugging info for all predictions\n",
    "        if pred_letter != label:\n",
    "            print(\"\\nIncorrect Prediction:\")\n",
    "            print(f\"Question: {question}\")\n",
    "            print(f\"Choices:\")\n",
    "            print(f\"A) {choice_a}\")\n",
    "            print(f\"B) {choice_b}\")\n",
    "            if not row[1][\"true_false\"]:\n",
    "                print(f\"C) {choice_c}\")\n",
    "                print(f\"D) {choice_d}\")\n",
    "            print(f\"Raw model response: '{prediction}'\")\n",
    "            print(f\"Processed prediction: '{pred_letter}'\")\n",
    "            print(f\"Correct answer: '{label}'\")\n",
    "            print(\"=========================================================\")\n",
    "\n",
    "    # Calculate overall accuracy\n",
    "    total_questions = len(y_true)\n",
    "    correct_answers = sum(1 for pred, true in zip(y_pred, y_true) if pred == true)\n",
    "    overall_accuracy = correct_answers / total_questions\n",
    "\n",
    "    # Print detailed matching information\n",
    "    print(\"\\nDetailed Answer Matching:\")\n",
    "    print(\"------------------------\")\n",
    "    mismatches = [(i, pred, true) for i, (pred, true) in enumerate(zip(y_pred, y_true)) if pred != true]\n",
    "    print(f\"Found {len(mismatches)} mismatches out of {total_questions} questions\")\n",
    "    \n",
    "    # Calculate per-category accuracies\n",
    "    categories = ['theory', 'numerical', 'grouping', 'fill_in_blank', 'true_false']\n",
    "    category_results = {}\n",
    "    \n",
    "    for category in categories:\n",
    "        # Get questions belonging to this category\n",
    "        category_indices = df_test[df_test[category] == 1].index\n",
    "        \n",
    "        if len(category_indices) > 0:\n",
    "            category_correct = sum(1 for i in category_indices if y_pred[i] == y_true[i])\n",
    "            category_accuracy = category_correct / len(category_indices)\n",
    "            category_results[category] = {\n",
    "                'accuracy': category_accuracy,\n",
    "                'correct': category_correct,\n",
    "                'total': len(category_indices)\n",
    "            }\n",
    "\n",
    "    # Print results\n",
    "    print(f\"\\nResults for {MODEL_NAME}\")\n",
    "    print(\"=\" * 50)\n",
    "    print(f\"Overall Accuracy: {overall_accuracy:.4f} ({correct_answers}/{total_questions} correct)\")\n",
    "    print(\"\\nPer-Category Performance:\")\n",
    "    print(\"-\" * 30)\n",
    "    \n",
    "    for category, results in category_results.items():\n",
    "        print(f\"{category.replace('_', ' ').title()}:\")\n",
    "        print(f\"  Accuracy: {results['accuracy']:.4f}\")\n",
    "        print(f\"  Correct: {results['correct']}/{results['total']}\")\n",
    "        print()\n",
    "\n",
    "    # Save results to file\n",
    "    with open(\"results/LLM_results.txt\", \"a\") as f:\n",
    "        f.write(f\"\\nResults for {MODEL_NAME}\\n\")\n",
    "        f.write(\"=\" * 50 + \"\\n\")\n",
    "        f.write(f\"Overall Accuracy: {overall_accuracy:.4f} ({correct_answers}/{total_questions} correct)\\n\")\n",
    "        f.write(\"\\nPer-Category Performance:\\n\")\n",
    "        f.write(\"-\" * 30 + \"\\n\")\n",
    "        \n",
    "        for category, results in category_results.items():\n",
    "            f.write(f\"{category.replace('_', ' ').title()}:\\n\")\n",
    "            f.write(f\"  Accuracy: {results['accuracy']:.4f}\\n\")\n",
    "            f.write(f\"  Correct: {results['correct']}/{results['total']}\\n\\n\")\n",
    "        f.write(\"\\n\")"
   ]
  },
  {
   "cell_type": "code",
   "execution_count": 8,
   "metadata": {},
   "outputs": [
    {
     "name": "stdout",
     "output_type": "stream",
     "text": [
      "Six.\n"
     ]
    }
   ],
   "source": [
    "from openai import AzureOpenAI\n",
    "import time\n",
    "\n",
    "# Correct endpoint format (remove the extra path and query parameters)\n",
    "endpoint = \"https://sebas-m88z4ckk-eastus2.cognitiveservices.azure.com/\"\n",
    "deployment = \"gpt-35-turbo\"\n",
    "api_version = \"2024-12-01-preview\"\n",
    "subscription_key = \"QcCAEjEb4AjlMq3HXAqQh6dOUB7Ft6A5sWVz1ODKUU5TsVlCtkaOJQQJ99BCACHYHv6XJ3w3AAAAACOGe30X\"\n",
    "\n",
    "client = AzureOpenAI(\n",
    "    api_version=api_version,\n",
    "    azure_endpoint=endpoint,\n",
    "    api_key=subscription_key,\n",
    ")\n",
    "\n",
    "def make_request_with_retry(max_retries=3, retry_delay=60):\n",
    "    for attempt in range(max_retries):\n",
    "        try:\n",
    "            response = client.chat.completions.create(\n",
    "                model=deployment,\n",
    "                messages=[\n",
    "                    {\"role\": \"user\", \"content\": \"What is 3+3? Give a one word response.\"}\n",
    "                ],\n",
    "                max_tokens=10,\n",
    "                temperature=0.0,\n",
    "                top_p=1.0\n",
    "            )\n",
    "            return response\n",
    "        except Exception as e:\n",
    "            print(f\"Attempt {attempt + 1} failed: {str(e)}\")\n",
    "            if attempt < max_retries - 1:\n",
    "                print(f\"Waiting {retry_delay} seconds before retrying...\")\n",
    "                time.sleep(retry_delay)\n",
    "            else:\n",
    "                print(\"All attempts failed\")\n",
    "                raise e\n",
    "\n",
    "# Make the request with retry logic\n",
    "try:\n",
    "    response = make_request_with_retry()\n",
    "    print(response.choices[0].message.content)\n",
    "except Exception as e:\n",
    "    print(f\"Final error: {str(e)}\")"
   ]
  },
  {
   "cell_type": "code",
   "execution_count": 2,
   "metadata": {},
   "outputs": [
    {
     "ename": "OSError",
     "evalue": "Incorrect path_or_model_id: '../llama/Llama-2-7b-chat-hf'. Please provide either the path to a local folder or the repo_id of a model on the Hub.",
     "output_type": "error",
     "traceback": [
      "\u001b[31m---------------------------------------------------------------------------\u001b[39m",
      "\u001b[31mHFValidationError\u001b[39m                         Traceback (most recent call last)",
      "\u001b[36mFile \u001b[39m\u001b[32m~/Library/CloudStorage/OneDrive-QuinteroOrthodontics/MIT/MEng/rag-thesis/.venv/lib/python3.11/site-packages/transformers/utils/hub.py:342\u001b[39m, in \u001b[36mcached_file\u001b[39m\u001b[34m(path_or_repo_id, filename, cache_dir, force_download, resume_download, proxies, token, revision, local_files_only, subfolder, repo_type, user_agent, _raise_exceptions_for_gated_repo, _raise_exceptions_for_missing_entries, _raise_exceptions_for_connection_errors, _commit_hash, **deprecated_kwargs)\u001b[39m\n\u001b[32m    340\u001b[39m \u001b[38;5;28;01mtry\u001b[39;00m:\n\u001b[32m    341\u001b[39m     \u001b[38;5;66;03m# Load from URL or cache if already cached\u001b[39;00m\n\u001b[32m--> \u001b[39m\u001b[32m342\u001b[39m     resolved_file = \u001b[43mhf_hub_download\u001b[49m\u001b[43m(\u001b[49m\n\u001b[32m    343\u001b[39m \u001b[43m        \u001b[49m\u001b[43mpath_or_repo_id\u001b[49m\u001b[43m,\u001b[49m\n\u001b[32m    344\u001b[39m \u001b[43m        \u001b[49m\u001b[43mfilename\u001b[49m\u001b[43m,\u001b[49m\n\u001b[32m    345\u001b[39m \u001b[43m        \u001b[49m\u001b[43msubfolder\u001b[49m\u001b[43m=\u001b[49m\u001b[38;5;28;43;01mNone\u001b[39;49;00m\u001b[43m \u001b[49m\u001b[38;5;28;43;01mif\u001b[39;49;00m\u001b[43m \u001b[49m\u001b[38;5;28;43mlen\u001b[39;49m\u001b[43m(\u001b[49m\u001b[43msubfolder\u001b[49m\u001b[43m)\u001b[49m\u001b[43m \u001b[49m\u001b[43m==\u001b[49m\u001b[43m \u001b[49m\u001b[32;43m0\u001b[39;49m\u001b[43m \u001b[49m\u001b[38;5;28;43;01melse\u001b[39;49;00m\u001b[43m \u001b[49m\u001b[43msubfolder\u001b[49m\u001b[43m,\u001b[49m\n\u001b[32m    346\u001b[39m \u001b[43m        \u001b[49m\u001b[43mrepo_type\u001b[49m\u001b[43m=\u001b[49m\u001b[43mrepo_type\u001b[49m\u001b[43m,\u001b[49m\n\u001b[32m    347\u001b[39m \u001b[43m        \u001b[49m\u001b[43mrevision\u001b[49m\u001b[43m=\u001b[49m\u001b[43mrevision\u001b[49m\u001b[43m,\u001b[49m\n\u001b[32m    348\u001b[39m \u001b[43m        \u001b[49m\u001b[43mcache_dir\u001b[49m\u001b[43m=\u001b[49m\u001b[43mcache_dir\u001b[49m\u001b[43m,\u001b[49m\n\u001b[32m    349\u001b[39m \u001b[43m        \u001b[49m\u001b[43muser_agent\u001b[49m\u001b[43m=\u001b[49m\u001b[43muser_agent\u001b[49m\u001b[43m,\u001b[49m\n\u001b[32m    350\u001b[39m \u001b[43m        \u001b[49m\u001b[43mforce_download\u001b[49m\u001b[43m=\u001b[49m\u001b[43mforce_download\u001b[49m\u001b[43m,\u001b[49m\n\u001b[32m    351\u001b[39m \u001b[43m        \u001b[49m\u001b[43mproxies\u001b[49m\u001b[43m=\u001b[49m\u001b[43mproxies\u001b[49m\u001b[43m,\u001b[49m\n\u001b[32m    352\u001b[39m \u001b[43m        \u001b[49m\u001b[43mresume_download\u001b[49m\u001b[43m=\u001b[49m\u001b[43mresume_download\u001b[49m\u001b[43m,\u001b[49m\n\u001b[32m    353\u001b[39m \u001b[43m        \u001b[49m\u001b[43mtoken\u001b[49m\u001b[43m=\u001b[49m\u001b[43mtoken\u001b[49m\u001b[43m,\u001b[49m\n\u001b[32m    354\u001b[39m \u001b[43m        \u001b[49m\u001b[43mlocal_files_only\u001b[49m\u001b[43m=\u001b[49m\u001b[43mlocal_files_only\u001b[49m\u001b[43m,\u001b[49m\n\u001b[32m    355\u001b[39m \u001b[43m    \u001b[49m\u001b[43m)\u001b[49m\n\u001b[32m    356\u001b[39m \u001b[38;5;28;01mexcept\u001b[39;00m GatedRepoError \u001b[38;5;28;01mas\u001b[39;00m e:\n",
      "\u001b[36mFile \u001b[39m\u001b[32m~/Library/CloudStorage/OneDrive-QuinteroOrthodontics/MIT/MEng/rag-thesis/.venv/lib/python3.11/site-packages/huggingface_hub/utils/_validators.py:106\u001b[39m, in \u001b[36mvalidate_hf_hub_args.<locals>._inner_fn\u001b[39m\u001b[34m(*args, **kwargs)\u001b[39m\n\u001b[32m    105\u001b[39m \u001b[38;5;28;01mif\u001b[39;00m arg_name \u001b[38;5;129;01min\u001b[39;00m [\u001b[33m\"\u001b[39m\u001b[33mrepo_id\u001b[39m\u001b[33m\"\u001b[39m, \u001b[33m\"\u001b[39m\u001b[33mfrom_id\u001b[39m\u001b[33m\"\u001b[39m, \u001b[33m\"\u001b[39m\u001b[33mto_id\u001b[39m\u001b[33m\"\u001b[39m]:\n\u001b[32m--> \u001b[39m\u001b[32m106\u001b[39m     \u001b[43mvalidate_repo_id\u001b[49m\u001b[43m(\u001b[49m\u001b[43marg_value\u001b[49m\u001b[43m)\u001b[49m\n\u001b[32m    108\u001b[39m \u001b[38;5;28;01melif\u001b[39;00m arg_name == \u001b[33m\"\u001b[39m\u001b[33mtoken\u001b[39m\u001b[33m\"\u001b[39m \u001b[38;5;129;01mand\u001b[39;00m arg_value \u001b[38;5;129;01mis\u001b[39;00m \u001b[38;5;129;01mnot\u001b[39;00m \u001b[38;5;28;01mNone\u001b[39;00m:\n",
      "\u001b[36mFile \u001b[39m\u001b[32m~/Library/CloudStorage/OneDrive-QuinteroOrthodontics/MIT/MEng/rag-thesis/.venv/lib/python3.11/site-packages/huggingface_hub/utils/_validators.py:154\u001b[39m, in \u001b[36mvalidate_repo_id\u001b[39m\u001b[34m(repo_id)\u001b[39m\n\u001b[32m    153\u001b[39m \u001b[38;5;28;01mif\u001b[39;00m repo_id.count(\u001b[33m\"\u001b[39m\u001b[33m/\u001b[39m\u001b[33m\"\u001b[39m) > \u001b[32m1\u001b[39m:\n\u001b[32m--> \u001b[39m\u001b[32m154\u001b[39m     \u001b[38;5;28;01mraise\u001b[39;00m HFValidationError(\n\u001b[32m    155\u001b[39m         \u001b[33m\"\u001b[39m\u001b[33mRepo id must be in the form \u001b[39m\u001b[33m'\u001b[39m\u001b[33mrepo_name\u001b[39m\u001b[33m'\u001b[39m\u001b[33m or \u001b[39m\u001b[33m'\u001b[39m\u001b[33mnamespace/repo_name\u001b[39m\u001b[33m'\u001b[39m\u001b[33m:\u001b[39m\u001b[33m\"\u001b[39m\n\u001b[32m    156\u001b[39m         \u001b[33mf\u001b[39m\u001b[33m\"\u001b[39m\u001b[33m \u001b[39m\u001b[33m'\u001b[39m\u001b[38;5;132;01m{\u001b[39;00mrepo_id\u001b[38;5;132;01m}\u001b[39;00m\u001b[33m'\u001b[39m\u001b[33m. Use `repo_type` argument if needed.\u001b[39m\u001b[33m\"\u001b[39m\n\u001b[32m    157\u001b[39m     )\n\u001b[32m    159\u001b[39m \u001b[38;5;28;01mif\u001b[39;00m \u001b[38;5;129;01mnot\u001b[39;00m REPO_ID_REGEX.match(repo_id):\n",
      "\u001b[31mHFValidationError\u001b[39m: Repo id must be in the form 'repo_name' or 'namespace/repo_name': '../llama/Llama-2-7b-chat-hf'. Use `repo_type` argument if needed.",
      "\nThe above exception was the direct cause of the following exception:\n",
      "\u001b[31mOSError\u001b[39m                                   Traceback (most recent call last)",
      "\u001b[36mCell\u001b[39m\u001b[36m \u001b[39m\u001b[32mIn[2]\u001b[39m\u001b[32m, line 45\u001b[39m\n\u001b[32m     41\u001b[39m \u001b[38;5;66;03m# Remove comments on your desired model\u001b[39;00m\n\u001b[32m     42\u001b[39m \n\u001b[32m     43\u001b[39m \u001b[38;5;66;03m# LLAMA2-7B-chat\u001b[39;00m\n\u001b[32m     44\u001b[39m model_name = \u001b[33m\"\u001b[39m\u001b[33m../llama/Llama-2-7b-chat-hf\u001b[39m\u001b[33m\"\u001b[39m\n\u001b[32m---> \u001b[39m\u001b[32m45\u001b[39m model = \u001b[43mAutoModelForCausalLM\u001b[49m\u001b[43m.\u001b[49m\u001b[43mfrom_pretrained\u001b[49m\u001b[43m(\u001b[49m\u001b[43mmodel_name\u001b[49m\u001b[43m,\u001b[49m\u001b[43m     \u001b[49m\n\u001b[32m     46\u001b[39m \u001b[43m                                             \u001b[49m\u001b[43mdevice_map\u001b[49m\u001b[43m=\u001b[49m\u001b[33;43m\"\u001b[39;49m\u001b[33;43mauto\u001b[39;49m\u001b[33;43m\"\u001b[39;49m\u001b[43m,\u001b[49m\u001b[43m     \u001b[49m\n\u001b[32m     47\u001b[39m \u001b[43m                                             \u001b[49m\u001b[43mmax_memory\u001b[49m\u001b[43m=\u001b[49m\u001b[43m{\u001b[49m\u001b[32;43m2\u001b[39;49m\u001b[43m:\u001b[49m\u001b[33;43m\"\u001b[39;49m\u001b[33;43m24GB\u001b[39;49m\u001b[33;43m\"\u001b[39;49m\u001b[43m,\u001b[49m\u001b[32;43m3\u001b[39;49m\u001b[43m:\u001b[49m\u001b[33;43m\"\u001b[39;49m\u001b[33;43m24GB\u001b[39;49m\u001b[33;43m\"\u001b[39;49m\u001b[43m}\u001b[49m\u001b[43m,\u001b[49m\u001b[43m      \u001b[49m\n\u001b[32m     48\u001b[39m \u001b[43m                                             \u001b[49m\u001b[43mtorch_dtype\u001b[49m\u001b[43m=\u001b[49m\u001b[43mtorch\u001b[49m\u001b[43m.\u001b[49m\u001b[43mfloat16\u001b[49m\u001b[43m,\u001b[49m\n\u001b[32m     49\u001b[39m \u001b[43m    \u001b[49m\u001b[43m)\u001b[49m\n\u001b[32m     50\u001b[39m tokenizer = AutoTokenizer.from_pretrained(model_name)\n\u001b[32m     51\u001b[39m tokenizer.pad_token = tokenizer.eos_token\n",
      "\u001b[36mFile \u001b[39m\u001b[32m~/Library/CloudStorage/OneDrive-QuinteroOrthodontics/MIT/MEng/rag-thesis/.venv/lib/python3.11/site-packages/transformers/models/auto/auto_factory.py:487\u001b[39m, in \u001b[36m_BaseAutoModelClass.from_pretrained\u001b[39m\u001b[34m(cls, pretrained_model_name_or_path, *model_args, **kwargs)\u001b[39m\n\u001b[32m    484\u001b[39m \u001b[38;5;28;01mif\u001b[39;00m commit_hash \u001b[38;5;129;01mis\u001b[39;00m \u001b[38;5;28;01mNone\u001b[39;00m:\n\u001b[32m    485\u001b[39m     \u001b[38;5;28;01mif\u001b[39;00m \u001b[38;5;129;01mnot\u001b[39;00m \u001b[38;5;28misinstance\u001b[39m(config, PretrainedConfig):\n\u001b[32m    486\u001b[39m         \u001b[38;5;66;03m# We make a call to the config file first (which may be absent) to get the commit hash as soon as possible\u001b[39;00m\n\u001b[32m--> \u001b[39m\u001b[32m487\u001b[39m         resolved_config_file = \u001b[43mcached_file\u001b[49m\u001b[43m(\u001b[49m\n\u001b[32m    488\u001b[39m \u001b[43m            \u001b[49m\u001b[43mpretrained_model_name_or_path\u001b[49m\u001b[43m,\u001b[49m\n\u001b[32m    489\u001b[39m \u001b[43m            \u001b[49m\u001b[43mCONFIG_NAME\u001b[49m\u001b[43m,\u001b[49m\n\u001b[32m    490\u001b[39m \u001b[43m            \u001b[49m\u001b[43m_raise_exceptions_for_gated_repo\u001b[49m\u001b[43m=\u001b[49m\u001b[38;5;28;43;01mFalse\u001b[39;49;00m\u001b[43m,\u001b[49m\n\u001b[32m    491\u001b[39m \u001b[43m            \u001b[49m\u001b[43m_raise_exceptions_for_missing_entries\u001b[49m\u001b[43m=\u001b[49m\u001b[38;5;28;43;01mFalse\u001b[39;49;00m\u001b[43m,\u001b[49m\n\u001b[32m    492\u001b[39m \u001b[43m            \u001b[49m\u001b[43m_raise_exceptions_for_connection_errors\u001b[49m\u001b[43m=\u001b[49m\u001b[38;5;28;43;01mFalse\u001b[39;49;00m\u001b[43m,\u001b[49m\n\u001b[32m    493\u001b[39m \u001b[43m            \u001b[49m\u001b[43m*\u001b[49m\u001b[43m*\u001b[49m\u001b[43mhub_kwargs\u001b[49m\u001b[43m,\u001b[49m\n\u001b[32m    494\u001b[39m \u001b[43m        \u001b[49m\u001b[43m)\u001b[49m\n\u001b[32m    495\u001b[39m         commit_hash = extract_commit_hash(resolved_config_file, commit_hash)\n\u001b[32m    496\u001b[39m     \u001b[38;5;28;01melse\u001b[39;00m:\n",
      "\u001b[36mFile \u001b[39m\u001b[32m~/Library/CloudStorage/OneDrive-QuinteroOrthodontics/MIT/MEng/rag-thesis/.venv/lib/python3.11/site-packages/transformers/utils/hub.py:408\u001b[39m, in \u001b[36mcached_file\u001b[39m\u001b[34m(path_or_repo_id, filename, cache_dir, force_download, resume_download, proxies, token, revision, local_files_only, subfolder, repo_type, user_agent, _raise_exceptions_for_gated_repo, _raise_exceptions_for_missing_entries, _raise_exceptions_for_connection_errors, _commit_hash, **deprecated_kwargs)\u001b[39m\n\u001b[32m    406\u001b[39m     \u001b[38;5;28;01mraise\u001b[39;00m \u001b[38;5;167;01mEnvironmentError\u001b[39;00m(\u001b[33mf\u001b[39m\u001b[33m\"\u001b[39m\u001b[33mThere was a specific connection error when trying to load \u001b[39m\u001b[38;5;132;01m{\u001b[39;00mpath_or_repo_id\u001b[38;5;132;01m}\u001b[39;00m\u001b[33m:\u001b[39m\u001b[38;5;130;01m\\n\u001b[39;00m\u001b[38;5;132;01m{\u001b[39;00merr\u001b[38;5;132;01m}\u001b[39;00m\u001b[33m\"\u001b[39m)\n\u001b[32m    407\u001b[39m \u001b[38;5;28;01mexcept\u001b[39;00m HFValidationError \u001b[38;5;28;01mas\u001b[39;00m e:\n\u001b[32m--> \u001b[39m\u001b[32m408\u001b[39m     \u001b[38;5;28;01mraise\u001b[39;00m \u001b[38;5;167;01mEnvironmentError\u001b[39;00m(\n\u001b[32m    409\u001b[39m         \u001b[33mf\u001b[39m\u001b[33m\"\u001b[39m\u001b[33mIncorrect path_or_model_id: \u001b[39m\u001b[33m'\u001b[39m\u001b[38;5;132;01m{\u001b[39;00mpath_or_repo_id\u001b[38;5;132;01m}\u001b[39;00m\u001b[33m'\u001b[39m\u001b[33m. Please provide either the path to a local folder or the repo_id of a model on the Hub.\u001b[39m\u001b[33m\"\u001b[39m\n\u001b[32m    410\u001b[39m     ) \u001b[38;5;28;01mfrom\u001b[39;00m\u001b[38;5;250m \u001b[39m\u001b[34;01me\u001b[39;00m\n\u001b[32m    411\u001b[39m \u001b[38;5;28;01mreturn\u001b[39;00m resolved_file\n",
      "\u001b[31mOSError\u001b[39m: Incorrect path_or_model_id: '../llama/Llama-2-7b-chat-hf'. Please provide either the path to a local folder or the repo_id of a model on the Hub."
     ]
    }
   ],
   "source": [
    "def get_zero_shot_results_from_llama(df_test, model, tokenizer):\n",
    "    y_true = []\n",
    "    y_pred = []\n",
    "    \n",
    "    for row in tqdm(df_test.iterrows(), total=len(df_test)):\n",
    "        question = row[1][\"Question\"]\n",
    "        choice_a = row[1][\"OptionA\"]\n",
    "        choice_b = row[1][\"OptionB\"]\n",
    "        choice_c = row[1][\"OptionC\"]\n",
    "        choice_d = row[1][\"OptionD\"]\n",
    "        label = row[1][\"Answer\"]  # Assuming label is 'A', 'B', 'C', or 'D'\n",
    "        \n",
    "        prompt = f\"\"\"Please answer this multiple choice question. Only respond with the letter of your answer (A, B, C, or D).\n",
    "\n",
    "Question: {question}\n",
    "\n",
    "A) {choice_a}\n",
    "B) {choice_b}\n",
    "C) {choice_c}\n",
    "D) {choice_d}\n",
    "\n",
    "Answer: \"\"\"\n",
    "        \n",
    "        model_answer = prompt_llama_like_model(prompt, model, tokenizer, max_new_tokens=10)\n",
    "        # Extract just the letter answer from the model's response\n",
    "        model_answer = model_answer.split(\"Answer:\")[-1].strip().upper()\n",
    "        \n",
    "        # For debugging first few examples\n",
    "        if row[0] < 5:\n",
    "            print(f\"Question: {question}\")\n",
    "            print(f\"Model Answer: {model_answer}\")\n",
    "            print(f\"Correct Answer: {label}\")\n",
    "            print(\"-------------------\")\n",
    "        \n",
    "        # Convert letter answers to predictions\n",
    "        y_pred.append(model_answer)\n",
    "        y_true.append(label)\n",
    "    \n",
    "    return y_true, y_pred\n",
    "\n",
    "# Remove comments on your desired model\n",
    "\n",
    "# LLAMA2-7B-chat\n",
    "model_name = \"../llama/Llama-2-7b-chat-hf\"\n",
    "model = AutoModelForCausalLM.from_pretrained(model_name,     \n",
    "                                             device_map=\"auto\",     \n",
    "                                             max_memory={2:\"24GB\",3:\"24GB\"},      \n",
    "                                             torch_dtype=torch.float16,\n",
    "    )\n",
    "tokenizer = AutoTokenizer.from_pretrained(model_name)\n",
    "tokenizer.pad_token = tokenizer.eos_token\n",
    "\n",
    "\n",
    "y_true, y_pred = get_zero_shot_results_from_llama(df_test, model, tokenizer)\n",
    "print(classification_report(y_true=y_true,y_pred=y_pred,digits=4))\n",
    "\n",
    "with open(\"results/LLM_results.txt\",\"a\") as f:\n",
    "    f.write(model_name+\", Zero-shot \\n\")\n",
    "    f.write(classification_report(y_true=y_true,y_pred=y_pred,digits=4))\n",
    "    f.write(\"\\n\")"
   ]
  }
 ],
 "metadata": {
  "kernelspec": {
   "display_name": ".venv",
   "language": "python",
   "name": "python3"
  },
  "language_info": {
   "codemirror_mode": {
    "name": "ipython",
    "version": 3
   },
   "file_extension": ".py",
   "mimetype": "text/x-python",
   "name": "python",
   "nbconvert_exporter": "python",
   "pygments_lexer": "ipython3",
   "version": "3.11.11"
  }
 },
 "nbformat": 4,
 "nbformat_minor": 2
}
